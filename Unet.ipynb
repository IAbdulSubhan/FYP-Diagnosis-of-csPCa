{
  "cells": [
    {
      "cell_type": "markdown",
      "metadata": {},
      "source": [
        "# **Mount Drive**"
      ]
    },
    {
      "cell_type": "code",
      "execution_count": 1,
      "metadata": {
        "colab": {
          "base_uri": "https://localhost:8080/"
        },
        "id": "s16aktrrP8NU",
        "outputId": "92f739ac-d946-4c00-ae5a-c83203f3af52"
      },
      "outputs": [
        {
          "name": "stdout",
          "output_type": "stream",
          "text": [
            "Drive already mounted at /content/drive; to attempt to forcibly remount, call drive.mount(\"/content/drive\", force_remount=True).\n"
          ]
        }
      ],
      "source": [
        "from google.colab import drive\n",
        "drive.mount('/content/drive')"
      ]
    },
    {
      "cell_type": "markdown",
      "metadata": {},
      "source": [
        "# **Installing required versions**"
      ]
    },
    {
      "cell_type": "code",
      "execution_count": 6,
      "metadata": {
        "colab": {
          "base_uri": "https://localhost:8080/",
          "height": 1000
        },
        "collapsed": true,
        "id": "cQH4iVtpGxsp",
        "outputId": "766d9372-fcfa-4b6e-a39f-6e71dab82b74"
      },
      "outputs": [
        {
          "name": "stdout",
          "output_type": "stream",
          "text": [
            "Found existing installation: tensorflow 2.12.0\n",
            "Uninstalling tensorflow-2.12.0:\n",
            "  Successfully uninstalled tensorflow-2.12.0\n",
            "Found existing installation: keras 2.12.0\n",
            "Uninstalling keras-2.12.0:\n",
            "  Successfully uninstalled keras-2.12.0\n",
            "Collecting tensorflow==2.10.1\n",
            "  Downloading tensorflow-2.10.1-cp310-cp310-manylinux_2_17_x86_64.manylinux2014_x86_64.whl (578.1 MB)\n",
            "\u001b[2K     \u001b[90m━━━━━━━━━━━━━━━━━━━━━━━━━━━━━━━━━━━━━━━━\u001b[0m \u001b[32m578.1/578.1 MB\u001b[0m \u001b[31m1.9 MB/s\u001b[0m eta \u001b[36m0:00:00\u001b[0m\n",
            "\u001b[?25hCollecting keras==2.10.0\n",
            "  Downloading keras-2.10.0-py2.py3-none-any.whl (1.7 MB)\n",
            "\u001b[2K     \u001b[90m━━━━━━━━━━━━━━━━━━━━━━━━━━━━━━━━━━━━━━━━\u001b[0m \u001b[32m1.7/1.7 MB\u001b[0m \u001b[31m24.6 MB/s\u001b[0m eta \u001b[36m0:00:00\u001b[0m\n",
            "\u001b[?25hRequirement already satisfied: absl-py>=1.0.0 in /usr/local/lib/python3.10/dist-packages (from tensorflow==2.10.1) (1.4.0)\n",
            "Requirement already satisfied: astunparse>=1.6.0 in /usr/local/lib/python3.10/dist-packages (from tensorflow==2.10.1) (1.6.3)\n",
            "Requirement already satisfied: flatbuffers>=2.0 in /usr/local/lib/python3.10/dist-packages (from tensorflow==2.10.1) (24.3.25)\n",
            "Requirement already satisfied: gast<=0.4.0,>=0.2.1 in /usr/local/lib/python3.10/dist-packages (from tensorflow==2.10.1) (0.4.0)\n",
            "Requirement already satisfied: google-pasta>=0.1.1 in /usr/local/lib/python3.10/dist-packages (from tensorflow==2.10.1) (0.2.0)\n",
            "Requirement already satisfied: grpcio<2.0,>=1.24.3 in /usr/local/lib/python3.10/dist-packages (from tensorflow==2.10.1) (1.64.1)\n",
            "Requirement already satisfied: h5py>=2.9.0 in /usr/local/lib/python3.10/dist-packages (from tensorflow==2.10.1) (3.9.0)\n",
            "Collecting keras-preprocessing>=1.1.1 (from tensorflow==2.10.1)\n",
            "  Downloading Keras_Preprocessing-1.1.2-py2.py3-none-any.whl (42 kB)\n",
            "\u001b[2K     \u001b[90m━━━━━━━━━━━━━━━━━━━━━━━━━━━━━━━━━━━━━━━━\u001b[0m \u001b[32m42.6/42.6 kB\u001b[0m \u001b[31m5.2 MB/s\u001b[0m eta \u001b[36m0:00:00\u001b[0m\n",
            "\u001b[?25hRequirement already satisfied: libclang>=13.0.0 in /usr/local/lib/python3.10/dist-packages (from tensorflow==2.10.1) (18.1.1)\n",
            "Requirement already satisfied: numpy>=1.20 in /usr/local/lib/python3.10/dist-packages (from tensorflow==2.10.1) (1.23.5)\n",
            "Requirement already satisfied: opt-einsum>=2.3.2 in /usr/local/lib/python3.10/dist-packages (from tensorflow==2.10.1) (3.3.0)\n",
            "Requirement already satisfied: packaging in /usr/local/lib/python3.10/dist-packages (from tensorflow==2.10.1) (24.0)\n",
            "Collecting protobuf<3.20,>=3.9.2 (from tensorflow==2.10.1)\n",
            "  Downloading protobuf-3.19.6-cp310-cp310-manylinux_2_17_x86_64.manylinux2014_x86_64.whl (1.1 MB)\n",
            "\u001b[2K     \u001b[90m━━━━━━━━━━━━━━━━━━━━━━━━━━━━━━━━━━━━━━━━\u001b[0m \u001b[32m1.1/1.1 MB\u001b[0m \u001b[31m21.3 MB/s\u001b[0m eta \u001b[36m0:00:00\u001b[0m\n",
            "\u001b[?25hRequirement already satisfied: setuptools in /usr/local/lib/python3.10/dist-packages (from tensorflow==2.10.1) (67.7.2)\n",
            "Requirement already satisfied: six>=1.12.0 in /usr/local/lib/python3.10/dist-packages (from tensorflow==2.10.1) (1.16.0)\n",
            "Collecting tensorboard<2.11,>=2.10 (from tensorflow==2.10.1)\n",
            "  Downloading tensorboard-2.10.1-py3-none-any.whl (5.9 MB)\n",
            "\u001b[2K     \u001b[90m━━━━━━━━━━━━━━━━━━━━━━━━━━━━━━━━━━━━━━━━\u001b[0m \u001b[32m5.9/5.9 MB\u001b[0m \u001b[31m25.1 MB/s\u001b[0m eta \u001b[36m0:00:00\u001b[0m\n",
            "\u001b[?25hRequirement already satisfied: tensorflow-io-gcs-filesystem>=0.23.1 in /usr/local/lib/python3.10/dist-packages (from tensorflow==2.10.1) (0.37.0)\n",
            "Collecting tensorflow-estimator<2.11,>=2.10.0 (from tensorflow==2.10.1)\n",
            "  Downloading tensorflow_estimator-2.10.0-py2.py3-none-any.whl (438 kB)\n",
            "\u001b[2K     \u001b[90m━━━━━━━━━━━━━━━━━━━━━━━━━━━━━━━━━━━━━━━━\u001b[0m \u001b[32m438.7/438.7 kB\u001b[0m \u001b[31m28.0 MB/s\u001b[0m eta \u001b[36m0:00:00\u001b[0m\n",
            "\u001b[?25hRequirement already satisfied: termcolor>=1.1.0 in /usr/local/lib/python3.10/dist-packages (from tensorflow==2.10.1) (2.4.0)\n",
            "Requirement already satisfied: typing-extensions>=3.6.6 in /usr/local/lib/python3.10/dist-packages (from tensorflow==2.10.1) (4.12.1)\n",
            "Requirement already satisfied: wrapt>=1.11.0 in /usr/local/lib/python3.10/dist-packages (from tensorflow==2.10.1) (1.14.1)\n",
            "Requirement already satisfied: wheel<1.0,>=0.23.0 in /usr/local/lib/python3.10/dist-packages (from astunparse>=1.6.0->tensorflow==2.10.1) (0.43.0)\n",
            "Requirement already satisfied: google-auth<3,>=1.6.3 in /usr/local/lib/python3.10/dist-packages (from tensorboard<2.11,>=2.10->tensorflow==2.10.1) (2.27.0)\n",
            "Requirement already satisfied: google-auth-oauthlib<0.5,>=0.4.1 in /usr/local/lib/python3.10/dist-packages (from tensorboard<2.11,>=2.10->tensorflow==2.10.1) (0.4.6)\n",
            "Requirement already satisfied: markdown>=2.6.8 in /usr/local/lib/python3.10/dist-packages (from tensorboard<2.11,>=2.10->tensorflow==2.10.1) (3.6)\n",
            "Requirement already satisfied: requests<3,>=2.21.0 in /usr/local/lib/python3.10/dist-packages (from tensorboard<2.11,>=2.10->tensorflow==2.10.1) (2.31.0)\n",
            "Collecting tensorboard-data-server<0.7.0,>=0.6.0 (from tensorboard<2.11,>=2.10->tensorflow==2.10.1)\n",
            "  Downloading tensorboard_data_server-0.6.1-py3-none-manylinux2010_x86_64.whl (4.9 MB)\n",
            "\u001b[2K     \u001b[90m━━━━━━━━━━━━━━━━━━━━━━━━━━━━━━━━━━━━━━━━\u001b[0m \u001b[32m4.9/4.9 MB\u001b[0m \u001b[31m26.2 MB/s\u001b[0m eta \u001b[36m0:00:00\u001b[0m\n",
            "\u001b[?25hRequirement already satisfied: tensorboard-plugin-wit>=1.6.0 in /usr/local/lib/python3.10/dist-packages (from tensorboard<2.11,>=2.10->tensorflow==2.10.1) (1.8.1)\n",
            "Requirement already satisfied: werkzeug>=1.0.1 in /usr/local/lib/python3.10/dist-packages (from tensorboard<2.11,>=2.10->tensorflow==2.10.1) (3.0.3)\n",
            "Requirement already satisfied: cachetools<6.0,>=2.0.0 in /usr/local/lib/python3.10/dist-packages (from google-auth<3,>=1.6.3->tensorboard<2.11,>=2.10->tensorflow==2.10.1) (5.3.3)\n",
            "Requirement already satisfied: pyasn1-modules>=0.2.1 in /usr/local/lib/python3.10/dist-packages (from google-auth<3,>=1.6.3->tensorboard<2.11,>=2.10->tensorflow==2.10.1) (0.4.0)\n",
            "Requirement already satisfied: rsa<5,>=3.1.4 in /usr/local/lib/python3.10/dist-packages (from google-auth<3,>=1.6.3->tensorboard<2.11,>=2.10->tensorflow==2.10.1) (4.9)\n",
            "Requirement already satisfied: requests-oauthlib>=0.7.0 in /usr/local/lib/python3.10/dist-packages (from google-auth-oauthlib<0.5,>=0.4.1->tensorboard<2.11,>=2.10->tensorflow==2.10.1) (1.3.1)\n",
            "Requirement already satisfied: charset-normalizer<4,>=2 in /usr/local/lib/python3.10/dist-packages (from requests<3,>=2.21.0->tensorboard<2.11,>=2.10->tensorflow==2.10.1) (3.3.2)\n",
            "Requirement already satisfied: idna<4,>=2.5 in /usr/local/lib/python3.10/dist-packages (from requests<3,>=2.21.0->tensorboard<2.11,>=2.10->tensorflow==2.10.1) (3.7)\n",
            "Requirement already satisfied: urllib3<3,>=1.21.1 in /usr/local/lib/python3.10/dist-packages (from requests<3,>=2.21.0->tensorboard<2.11,>=2.10->tensorflow==2.10.1) (2.0.7)\n",
            "Requirement already satisfied: certifi>=2017.4.17 in /usr/local/lib/python3.10/dist-packages (from requests<3,>=2.21.0->tensorboard<2.11,>=2.10->tensorflow==2.10.1) (2024.6.2)\n",
            "Requirement already satisfied: MarkupSafe>=2.1.1 in /usr/local/lib/python3.10/dist-packages (from werkzeug>=1.0.1->tensorboard<2.11,>=2.10->tensorflow==2.10.1) (2.1.5)\n",
            "Requirement already satisfied: pyasn1<0.7.0,>=0.4.6 in /usr/local/lib/python3.10/dist-packages (from pyasn1-modules>=0.2.1->google-auth<3,>=1.6.3->tensorboard<2.11,>=2.10->tensorflow==2.10.1) (0.6.0)\n",
            "Requirement already satisfied: oauthlib>=3.0.0 in /usr/local/lib/python3.10/dist-packages (from requests-oauthlib>=0.7.0->google-auth-oauthlib<0.5,>=0.4.1->tensorboard<2.11,>=2.10->tensorflow==2.10.1) (3.2.2)\n",
            "Installing collected packages: keras, tensorflow-estimator, tensorboard-data-server, protobuf, keras-preprocessing, tensorboard, tensorflow\n",
            "  Attempting uninstall: tensorflow-estimator\n",
            "    Found existing installation: tensorflow-estimator 2.12.0\n",
            "    Uninstalling tensorflow-estimator-2.12.0:\n",
            "      Successfully uninstalled tensorflow-estimator-2.12.0\n",
            "  Attempting uninstall: tensorboard-data-server\n",
            "    Found existing installation: tensorboard-data-server 0.7.2\n",
            "    Uninstalling tensorboard-data-server-0.7.2:\n",
            "      Successfully uninstalled tensorboard-data-server-0.7.2\n",
            "  Attempting uninstall: protobuf\n",
            "    Found existing installation: protobuf 3.20.3\n",
            "    Uninstalling protobuf-3.20.3:\n",
            "      Successfully uninstalled protobuf-3.20.3\n",
            "  Attempting uninstall: tensorboard\n",
            "    Found existing installation: tensorboard 2.12.0\n",
            "    Uninstalling tensorboard-2.12.0:\n",
            "      Successfully uninstalled tensorboard-2.12.0\n",
            "\u001b[31mERROR: pip's dependency resolver does not currently take into account all the packages that are installed. This behaviour is the source of the following dependency conflicts.\n",
            "cudf-cu12 24.4.1 requires pandas<2.2.2dev0,>=2.0, but you have pandas 1.5.3 which is incompatible.\n",
            "cudf-cu12 24.4.1 requires protobuf<5,>=3.20, but you have protobuf 3.19.6 which is incompatible.\n",
            "orbax-checkpoint 0.4.4 requires jax>=0.4.9, but you have jax 0.3.25 which is incompatible.\n",
            "pandas-gbq 0.19.2 requires google-auth-oauthlib>=0.7.0, but you have google-auth-oauthlib 0.4.6 which is incompatible.\n",
            "tensorflow-datasets 4.9.5 requires protobuf>=3.20, but you have protobuf 3.19.6 which is incompatible.\n",
            "tensorflow-metadata 1.15.0 requires protobuf<4.21,>=3.20.3; python_version < \"3.11\", but you have protobuf 3.19.6 which is incompatible.\n",
            "tf-keras 2.15.1 requires tensorflow<2.16,>=2.15, but you have tensorflow 2.10.1 which is incompatible.\u001b[0m\u001b[31m\n",
            "\u001b[0mSuccessfully installed keras-2.10.0 keras-preprocessing-1.1.2 protobuf-3.19.6 tensorboard-2.10.1 tensorboard-data-server-0.6.1 tensorflow-2.10.1 tensorflow-estimator-2.10.0\n"
          ]
        },
        {
          "data": {
            "application/vnd.colab-display-data+json": {
              "id": "8974a93106f54744983cb01f91f56d27",
              "pip_warning": {
                "packages": [
                  "google"
                ]
              }
            }
          },
          "metadata": {},
          "output_type": "display_data"
        }
      ],
      "source": [
        "!pip uninstall -y tensorflow keras\n",
        "!pip install tensorflow==2.10.1 keras==2.10.0"
      ]
    },
    {
      "cell_type": "code",
      "execution_count": 2,
      "metadata": {
        "colab": {
          "base_uri": "https://localhost:8080/"
        },
        "id": "zLrpQmnQQPiv",
        "outputId": "6d58b1c8-89e8-4e1a-aa6e-cea5341f1e7d"
      },
      "outputs": [
        {
          "name": "stdout",
          "output_type": "stream",
          "text": [
            "TensorFlow version: 2.10.1\n",
            "Keras version: 2.10.0\n"
          ]
        }
      ],
      "source": [
        "import tensorflow as tf\n",
        "import keras\n",
        "\n",
        "print(\"TensorFlow version:\", tf.__version__)\n",
        "print(\"Keras version:\", keras.__version__)\n"
      ]
    },
    {
      "cell_type": "markdown",
      "metadata": {},
      "source": [
        "# **Intalling Pre-trained Segmentation Model Framework**"
      ]
    },
    {
      "cell_type": "code",
      "execution_count": 3,
      "metadata": {
        "colab": {
          "base_uri": "https://localhost:8080/"
        },
        "collapsed": true,
        "id": "MxQ_qgavQacS",
        "outputId": "576c3011-95a0-4dbb-cd2d-4f5c2dd421cf"
      },
      "outputs": [
        {
          "name": "stdout",
          "output_type": "stream",
          "text": [
            "Collecting segmentation-models\n",
            "  Downloading segmentation_models-1.0.1-py3-none-any.whl (33 kB)\n",
            "Collecting keras-applications<=1.0.8,>=1.0.7 (from segmentation-models)\n",
            "  Downloading Keras_Applications-1.0.8-py3-none-any.whl (50 kB)\n",
            "\u001b[2K     \u001b[90m━━━━━━━━━━━━━━━━━━━━━━━━━━━━━━━━━━━━━━━━\u001b[0m \u001b[32m50.7/50.7 kB\u001b[0m \u001b[31m892.2 kB/s\u001b[0m eta \u001b[36m0:00:00\u001b[0m\n",
            "\u001b[?25hCollecting image-classifiers==1.0.0 (from segmentation-models)\n",
            "  Downloading image_classifiers-1.0.0-py3-none-any.whl (19 kB)\n",
            "Collecting efficientnet==1.0.0 (from segmentation-models)\n",
            "  Downloading efficientnet-1.0.0-py3-none-any.whl (17 kB)\n",
            "Requirement already satisfied: scikit-image in /usr/local/lib/python3.10/dist-packages (from efficientnet==1.0.0->segmentation-models) (0.19.3)\n",
            "Requirement already satisfied: numpy>=1.9.1 in /usr/local/lib/python3.10/dist-packages (from keras-applications<=1.0.8,>=1.0.7->segmentation-models) (1.23.5)\n",
            "Requirement already satisfied: h5py in /usr/local/lib/python3.10/dist-packages (from keras-applications<=1.0.8,>=1.0.7->segmentation-models) (3.9.0)\n",
            "Requirement already satisfied: scipy>=1.4.1 in /usr/local/lib/python3.10/dist-packages (from scikit-image->efficientnet==1.0.0->segmentation-models) (1.11.4)\n",
            "Requirement already satisfied: networkx>=2.2 in /usr/local/lib/python3.10/dist-packages (from scikit-image->efficientnet==1.0.0->segmentation-models) (3.3)\n",
            "Requirement already satisfied: pillow!=7.1.0,!=7.1.1,!=8.3.0,>=6.1.0 in /usr/local/lib/python3.10/dist-packages (from scikit-image->efficientnet==1.0.0->segmentation-models) (9.4.0)\n",
            "Requirement already satisfied: imageio>=2.4.1 in /usr/local/lib/python3.10/dist-packages (from scikit-image->efficientnet==1.0.0->segmentation-models) (2.31.6)\n",
            "Requirement already satisfied: tifffile>=2019.7.26 in /usr/local/lib/python3.10/dist-packages (from scikit-image->efficientnet==1.0.0->segmentation-models) (2024.5.22)\n",
            "Requirement already satisfied: PyWavelets>=1.1.1 in /usr/local/lib/python3.10/dist-packages (from scikit-image->efficientnet==1.0.0->segmentation-models) (1.6.0)\n",
            "Requirement already satisfied: packaging>=20.0 in /usr/local/lib/python3.10/dist-packages (from scikit-image->efficientnet==1.0.0->segmentation-models) (24.0)\n",
            "Installing collected packages: keras-applications, image-classifiers, efficientnet, segmentation-models\n",
            "Successfully installed efficientnet-1.0.0 image-classifiers-1.0.0 keras-applications-1.0.8 segmentation-models-1.0.1\n"
          ]
        }
      ],
      "source": [
        "pip install segmentation-models\n"
      ]
    },
    {
      "cell_type": "markdown",
      "metadata": {},
      "source": [
        "# **Necessary Imports**"
      ]
    },
    {
      "cell_type": "code",
      "execution_count": 5,
      "metadata": {
        "id": "_im_7dqCQPf7"
      },
      "outputs": [],
      "source": [
        "import glob\n",
        "import cv2\n",
        "import os\n",
        "import numpy as np\n",
        "from matplotlib import pyplot as plt\n",
        "from tensorflow.keras.callbacks import ModelCheckpoint, EarlyStopping"
      ]
    },
    {
      "cell_type": "code",
      "execution_count": 6,
      "metadata": {
        "id": "osey4aJwQPdG"
      },
      "outputs": [],
      "source": [
        "%matplotlib inline"
      ]
    },
    {
      "cell_type": "code",
      "execution_count": 7,
      "metadata": {
        "colab": {
          "base_uri": "https://localhost:8080/"
        },
        "id": "a86dCBZ4QPaj",
        "outputId": "e7ac008a-8bb8-48a2-f7ff-e61bbf471a81"
      },
      "outputs": [
        {
          "name": "stdout",
          "output_type": "stream",
          "text": [
            "Segmentation Models: using `keras` framework.\n"
          ]
        }
      ],
      "source": [
        "import tensorflow as tf\n",
        "import segmentation_models as sm\n",
        "from segmentation_models import get_preprocessing\n",
        "BACKBONE = 'resnet34'\n",
        "preprocess_input = sm.get_preprocessing(BACKBONE)"
      ]
    },
    {
      "cell_type": "markdown",
      "metadata": {},
      "source": [
        "# **Data read and Pre-processing**"
      ]
    },
    {
      "cell_type": "code",
      "execution_count": 8,
      "metadata": {
        "id": "2IbeYrX6QPX5"
      },
      "outputs": [],
      "source": [
        "\n",
        "SIZE_X = 256 \n",
        "SIZE_Y = 256\n",
        "\n",
        "def load_images_and_masks(image_dir, mask_dir):\n",
        "    images = []\n",
        "    masks = []\n",
        "    for img_path in glob.glob(os.path.join(image_dir, \"*.png\")):\n",
        "        img = cv2.imread(img_path, cv2.IMREAD_COLOR)\n",
        "        img = cv2.resize(img, (SIZE_Y, SIZE_X))\n",
        "        images.append(img)\n",
        "\n",
        "    for mask_path in glob.glob(os.path.join(mask_dir, \"*.png\")):\n",
        "        mask = cv2.imread(mask_path, 0)\n",
        "        mask = cv2.resize(mask, (SIZE_Y, SIZE_X))\n",
        "        masks.append(mask)\n",
        "\n",
        "    images = np.array(images)\n",
        "    masks = np.array(masks)\n",
        "    masks = np.expand_dims(masks, axis=3)\n",
        "    return images, masks\n",
        "\n",
        "\n"
      ]
    },
    {
      "cell_type": "code",
      "execution_count": 9,
      "metadata": {
        "id": "1R-1-7qPQPVJ"
      },
      "outputs": [],
      "source": [
        "# Load train data\n",
        "train_yes_images, train_yes_masks = load_images_and_masks(\"/content/drive/MyDrive/Taha_dataset/train/yes_images\",\n",
        "                                                          \"/content/drive/MyDrive/Taha_dataset/train/yes_masks\")\n",
        "train_no_images, train_no_masks = load_images_and_masks(\"/content/drive/MyDrive/Taha_dataset/train/no_images\",\n",
        "                                                        \"/content/drive/MyDrive/Taha_dataset/train/no_masks\")\n",
        "\n",
        "train_images = np.concatenate((train_yes_images, train_no_images), axis=0)\n",
        "train_masks = np.concatenate((train_yes_masks, train_no_masks), axis=0)\n",
        "\n",
        "# Load test data\n",
        "test_yes_images, test_yes_masks = load_images_and_masks(\"/content/drive/MyDrive/Taha_dataset/test/yes_images\",\n",
        "                                                        \"/content/drive/MyDrive/Taha_dataset/test/yes_masks\")\n",
        "test_no_images, test_no_masks = load_images_and_masks(\"/content/drive/MyDrive/Taha_dataset/test/no_images\",\n",
        "                                                      \"/content/drive/MyDrive/Taha_dataset/test/no_masks\")\n",
        "\n",
        "test_images = np.concatenate((test_yes_images, test_no_images), axis=0)\n",
        "test_masks = np.concatenate((test_yes_masks, test_no_masks), axis=0)\n",
        "\n",
        "# Load validation data\n",
        "val_yes_images, val_yes_masks = load_images_and_masks(\"/content/drive/MyDrive/Taha_dataset/validate/yes_images\",\n",
        "                                                      \"/content/drive/MyDrive/Taha_dataset/validate/yes_masks\")\n",
        "val_no_images, val_no_masks = load_images_and_masks(\"/content/drive/MyDrive/Taha_dataset/validate/no_images\",\n",
        "                                                    \"/content/drive/MyDrive/Taha_dataset/validate/no_masks\")\n",
        "\n",
        "val_images = np.concatenate((val_yes_images, val_no_images), axis=0)\n",
        "val_masks = np.concatenate((val_yes_masks, val_no_masks), axis=0)"
      ]
    },
    {
      "cell_type": "markdown",
      "metadata": {},
      "source": [
        "## **Sanity Check**"
      ]
    },
    {
      "cell_type": "code",
      "execution_count": 10,
      "metadata": {
        "colab": {
          "base_uri": "https://localhost:8080/",
          "height": 488
        },
        "id": "Nfh9v5D8jGey",
        "outputId": "a219cdea-cdcb-4f86-da1a-19a6f51c1515"
      },
      "outputs": [
        {
          "data": {
            "image/png": "[encoded data removed]",
            "text/plain": [
              "<Figure size 1200x600 with 2 Axes>"
            ]
          },
          "metadata": {},
          "output_type": "display_data"
        }
      ],
      "source": [
        "import random\n",
        "image_number = random.randint(0, len (train_images))\n",
        "plt.figure(figsize=(12, 6))\n",
        "plt.subplot(121)\n",
        "plt.imshow(train_images[image_number,:,:,0], cmap='gray')\n",
        "plt.subplot(122)\n",
        "plt.imshow(train_masks[image_number,:,:,0], cmap='gray')\n",
        "plt.show()"
      ]
    },
    {
      "cell_type": "code",
      "execution_count": 12,
      "metadata": {
        "colab": {
          "base_uri": "https://localhost:8080/"
        },
        "id": "bd1yr553kOBP",
        "outputId": "8531ca65-020c-4d07-837a-8d447c57b509"
      },
      "outputs": [
        {
          "name": "stdout",
          "output_type": "stream",
          "text": [
            "<class 'numpy.ndarray'>\n",
            "(560, 256, 256, 3)\n",
            "<class 'numpy.ndarray'>\n",
            "(560, 256, 256, 1)\n"
          ]
        }
      ],
      "source": [
        "print(type(train_images))\n",
        "print(train_images.shape)\n",
        "print(type(train_masks))\n",
        "print(train_masks.shape)\n",
        "\n",
        "\n",
        "# Convert data types\n",
        "train_images = train_images.astype('float32')\n",
        "val_images = val_images.astype('float32')\n",
        "test_images = test_images.astype('float32')\n",
        "train_masks = train_masks.astype('float32')\n",
        "val_masks = val_masks.astype('float32')\n",
        "test_masks = test_masks.astype('float32')"
      ]
    },
    {
      "cell_type": "code",
      "execution_count": 13,
      "metadata": {
        "colab": {
          "base_uri": "https://localhost:8080/"
        },
        "id": "_-hHTk9ZkXid",
        "outputId": "564daf90-44a1-4ccc-a89b-b2e39df4c0b0"
      },
      "outputs": [
        {
          "name": "stdout",
          "output_type": "stream",
          "text": [
            "float32\n",
            "float32\n"
          ]
        }
      ],
      "source": [
        "print(train_images.dtype)\n",
        "print(train_masks.dtype)"
      ]
    },
    {
      "cell_type": "code",
      "execution_count": 14,
      "metadata": {
        "colab": {
          "base_uri": "https://localhost:8080/"
        },
        "id": "DXjpD4YMkZcp",
        "outputId": "15a0630e-017d-4b63-f758-6427e02f03e0"
      },
      "outputs": [
        {
          "name": "stdout",
          "output_type": "stream",
          "text": [
            "255.0 0.0\n",
            "255.0 0.0\n"
          ]
        }
      ],
      "source": [
        "print(train_images.max(), train_masks.min())\n",
        "print(val_images.max(), val_masks.min())"
      ]
    },
    {
      "cell_type": "markdown",
      "metadata": {},
      "source": [
        "## **Normalizing images and masks**"
      ]
    },
    {
      "cell_type": "code",
      "execution_count": 15,
      "metadata": {
        "id": "LYwMBh55kN-W"
      },
      "outputs": [],
      "source": [
        "# Normalize image data\n",
        "train_images /= 255.0\n",
        "val_images /= 255.0\n",
        "test_images /= 255.0\n",
        "\n",
        "# Normalize mask data\n",
        "train_masks /= 255.0\n",
        "val_masks /= 255.0\n",
        "test_masks /= 255.0"
      ]
    },
    {
      "cell_type": "code",
      "execution_count": 16,
      "metadata": {
        "colab": {
          "base_uri": "https://localhost:8080/"
        },
        "id": "7UIeDIeXQPSe",
        "outputId": "e7b33e3e-980f-4d49-dbed-404ef90e5916"
      },
      "outputs": [
        {
          "name": "stdout",
          "output_type": "stream",
          "text": [
            "Train images shape: (560, 256, 256, 3), Train masks shape: (560, 256, 256, 1)\n",
            "Test images shape: (70, 256, 256, 3), Test masks shape: (70, 256, 256, 1)\n",
            "Validation images shape: (72, 256, 256, 3), Validation masks shape: (72, 256, 256, 1)\n"
          ]
        }
      ],
      "source": [
        "print(f'Train images shape: {train_images.shape}, Train masks shape: {train_masks.shape}')\n",
        "print(f'Test images shape: {test_images.shape}, Test masks shape: {test_masks.shape}')\n",
        "print(f'Validation images shape: {val_images.shape}, Validation masks shape: {val_masks.shape}')"
      ]
    },
    {
      "cell_type": "markdown",
      "metadata": {
        "id": "5Uh7zhY4kIvk"
      },
      "source": [
        "## **Define model**"
      ]
    },
    {
      "cell_type": "code",
      "execution_count": 17,
      "metadata": {
        "colab": {
          "base_uri": "https://localhost:8080/"
        },
        "id": "NmqCxHtwcxY6",
        "outputId": "2fb3a02e-003e-4ffa-8935-d6e475634816"
      },
      "outputs": [
        {
          "name": "stdout",
          "output_type": "stream",
          "text": [
            "Downloading data from https://github.com/qubvel/classification_models/releases/download/0.0.1/resnet34_imagenet_1000_no_top.h5\n",
            "85521592/85521592 [==============================] - 1s 0us/step\n",
            "Model: \"model_1\"\n",
            "__________________________________________________________________________________________________\n",
            " Layer (type)                   Output Shape         Param #     Connected to                     \n",
            "==================================================================================================\n",
            " data (InputLayer)              [(None, 256, 256, 3  0           []                               \n",
            "                                )]                                                                \n",
            "                                                                                                  \n",
            " bn_data (BatchNormalization)   (None, 256, 256, 3)  9           ['data[0][0]']                   \n",
            "                                                                                                  \n",
            " zero_padding2d (ZeroPadding2D)  (None, 262, 262, 3)  0          ['bn_data[0][0]']                \n",
            "                                                                                                  \n",
            " conv0 (Conv2D)                 (None, 128, 128, 64  9408        ['zero_padding2d[0][0]']         \n",
            "                                )                                                                 \n",
            "                                                                                                  \n",
            " bn0 (BatchNormalization)       (None, 128, 128, 64  256         ['conv0[0][0]']                  \n",
            "                                )                                                                 \n",
            "                                                                                                  \n",
            " relu0 (Activation)             (None, 128, 128, 64  0           ['bn0[0][0]']                    \n",
            "                                )                                                                 \n",
            "                                                                                                  \n",
            " zero_padding2d_1 (ZeroPadding2  (None, 130, 130, 64  0          ['relu0[0][0]']                  \n",
            " D)                             )                                                                 \n",
            "                                                                                                  \n",
            " pooling0 (MaxPooling2D)        (None, 64, 64, 64)   0           ['zero_padding2d_1[0][0]']       \n",
            "                                                                                                  \n",
            " stage1_unit1_bn1 (BatchNormali  (None, 64, 64, 64)  256         ['pooling0[0][0]']               \n",
            " zation)                                                                                          \n",
            "                                                                                                  \n",
            " stage1_unit1_relu1 (Activation  (None, 64, 64, 64)  0           ['stage1_unit1_bn1[0][0]']       \n",
            " )                                                                                                \n",
            "                                                                                                  \n",
            " zero_padding2d_2 (ZeroPadding2  (None, 66, 66, 64)  0           ['stage1_unit1_relu1[0][0]']     \n",
            " D)                                                                                               \n",
            "                                                                                                  \n",
            " stage1_unit1_conv1 (Conv2D)    (None, 64, 64, 64)   36864       ['zero_padding2d_2[0][0]']       \n",
            "                                                                                                  \n",
            " stage1_unit1_bn2 (BatchNormali  (None, 64, 64, 64)  256         ['stage1_unit1_conv1[0][0]']     \n",
            " zation)                                                                                          \n",
            "                                                                                                  \n",
            " stage1_unit1_relu2 (Activation  (None, 64, 64, 64)  0           ['stage1_unit1_bn2[0][0]']       \n",
            " )                                                                                                \n",
            "                                                                                                  \n",
            " zero_padding2d_3 (ZeroPadding2  (None, 66, 66, 64)  0           ['stage1_unit1_relu2[0][0]']     \n",
            " D)                                                                                               \n",
            "                                                                                                  \n",
            " stage1_unit1_conv2 (Conv2D)    (None, 64, 64, 64)   36864       ['zero_padding2d_3[0][0]']       \n",
            "                                                                                                  \n",
            " stage1_unit1_sc (Conv2D)       (None, 64, 64, 64)   4096        ['stage1_unit1_relu1[0][0]']     \n",
            "                                                                                                  \n",
            " add (Add)                      (None, 64, 64, 64)   0           ['stage1_unit1_conv2[0][0]',     \n",
            "                                                                  'stage1_unit1_sc[0][0]']        \n",
            "                                                                                                  \n",
            " stage1_unit2_bn1 (BatchNormali  (None, 64, 64, 64)  256         ['add[0][0]']                    \n",
            " zation)                                                                                          \n",
            "                                                                                                  \n",
            " stage1_unit2_relu1 (Activation  (None, 64, 64, 64)  0           ['stage1_unit2_bn1[0][0]']       \n",
            " )                                                                                                \n",
            "                                                                                                  \n",
            " zero_padding2d_4 (ZeroPadding2  (None, 66, 66, 64)  0           ['stage1_unit2_relu1[0][0]']     \n",
            " D)                                                                                               \n",
            "                                                                                                  \n",
            " stage1_unit2_conv1 (Conv2D)    (None, 64, 64, 64)   36864       ['zero_padding2d_4[0][0]']       \n",
            "                                                                                                  \n",
            " stage1_unit2_bn2 (BatchNormali  (None, 64, 64, 64)  256         ['stage1_unit2_conv1[0][0]']     \n",
            " zation)                                                                                          \n",
            "                                                                                                  \n",
            " stage1_unit2_relu2 (Activation  (None, 64, 64, 64)  0           ['stage1_unit2_bn2[0][0]']       \n",
            " )                                                                                                \n",
            "                                                                                                  \n",
            " zero_padding2d_5 (ZeroPadding2  (None, 66, 66, 64)  0           ['stage1_unit2_relu2[0][0]']     \n",
            " D)                                                                                               \n",
            "                                                                                                  \n",
            " stage1_unit2_conv2 (Conv2D)    (None, 64, 64, 64)   36864       ['zero_padding2d_5[0][0]']       \n",
            "                                                                                                  \n",
            " add_1 (Add)                    (None, 64, 64, 64)   0           ['stage1_unit2_conv2[0][0]',     \n",
            "                                                                  'add[0][0]']                    \n",
            "                                                                                                  \n",
            " stage1_unit3_bn1 (BatchNormali  (None, 64, 64, 64)  256         ['add_1[0][0]']                  \n",
            " zation)                                                                                          \n",
            "                                                                                                  \n",
            " stage1_unit3_relu1 (Activation  (None, 64, 64, 64)  0           ['stage1_unit3_bn1[0][0]']       \n",
            " )                                                                                                \n",
            "                                                                                                  \n",
            " zero_padding2d_6 (ZeroPadding2  (None, 66, 66, 64)  0           ['stage1_unit3_relu1[0][0]']     \n",
            " D)                                                                                               \n",
            "                                                                                                  \n",
            " stage1_unit3_conv1 (Conv2D)    (None, 64, 64, 64)   36864       ['zero_padding2d_6[0][0]']       \n",
            "                                                                                                  \n",
            " stage1_unit3_bn2 (BatchNormali  (None, 64, 64, 64)  256         ['stage1_unit3_conv1[0][0]']     \n",
            " zation)                                                                                          \n",
            "                                                                                                  \n",
            " stage1_unit3_relu2 (Activation  (None, 64, 64, 64)  0           ['stage1_unit3_bn2[0][0]']       \n",
            " )                                                                                                \n",
            "                                                                                                  \n",
            " zero_padding2d_7 (ZeroPadding2  (None, 66, 66, 64)  0           ['stage1_unit3_relu2[0][0]']     \n",
            " D)                                                                                               \n",
            "                                                                                                  \n",
            " stage1_unit3_conv2 (Conv2D)    (None, 64, 64, 64)   36864       ['zero_padding2d_7[0][0]']       \n",
            "                                                                                                  \n",
            " add_2 (Add)                    (None, 64, 64, 64)   0           ['stage1_unit3_conv2[0][0]',     \n",
            "                                                                  'add_1[0][0]']                  \n",
            "                                                                                                  \n",
            " stage2_unit1_bn1 (BatchNormali  (None, 64, 64, 64)  256         ['add_2[0][0]']                  \n",
            " zation)                                                                                          \n",
            "                                                                                                  \n",
            " stage2_unit1_relu1 (Activation  (None, 64, 64, 64)  0           ['stage2_unit1_bn1[0][0]']       \n",
            " )                                                                                                \n",
            "                                                                                                  \n",
            " zero_padding2d_8 (ZeroPadding2  (None, 66, 66, 64)  0           ['stage2_unit1_relu1[0][0]']     \n",
            " D)                                                                                               \n",
            "                                                                                                  \n",
            " stage2_unit1_conv1 (Conv2D)    (None, 32, 32, 128)  73728       ['zero_padding2d_8[0][0]']       \n",
            "                                                                                                  \n",
            " stage2_unit1_bn2 (BatchNormali  (None, 32, 32, 128)  512        ['stage2_unit1_conv1[0][0]']     \n",
            " zation)                                                                                          \n",
            "                                                                                                  \n",
            " stage2_unit1_relu2 (Activation  (None, 32, 32, 128)  0          ['stage2_unit1_bn2[0][0]']       \n",
            " )                                                                                                \n",
            "                                                                                                  \n",
            " zero_padding2d_9 (ZeroPadding2  (None, 34, 34, 128)  0          ['stage2_unit1_relu2[0][0]']     \n",
            " D)                                                                                               \n",
            "                                                                                                  \n",
            " stage2_unit1_conv2 (Conv2D)    (None, 32, 32, 128)  147456      ['zero_padding2d_9[0][0]']       \n",
            "                                                                                                  \n",
            " stage2_unit1_sc (Conv2D)       (None, 32, 32, 128)  8192        ['stage2_unit1_relu1[0][0]']     \n",
            "                                                                                                  \n",
            " add_3 (Add)                    (None, 32, 32, 128)  0           ['stage2_unit1_conv2[0][0]',     \n",
            "                                                                  'stage2_unit1_sc[0][0]']        \n",
            "                                                                                                  \n",
            " stage2_unit2_bn1 (BatchNormali  (None, 32, 32, 128)  512        ['add_3[0][0]']                  \n",
            " zation)                                                                                          \n",
            "                                                                                                  \n",
            " stage2_unit2_relu1 (Activation  (None, 32, 32, 128)  0          ['stage2_unit2_bn1[0][0]']       \n",
            " )                                                                                                \n",
            "                                                                                                  \n",
            " zero_padding2d_10 (ZeroPadding  (None, 34, 34, 128)  0          ['stage2_unit2_relu1[0][0]']     \n",
            " 2D)                                                                                              \n",
            "                                                                                                  \n",
            " stage2_unit2_conv1 (Conv2D)    (None, 32, 32, 128)  147456      ['zero_padding2d_10[0][0]']      \n",
            "                                                                                                  \n",
            " stage2_unit2_bn2 (BatchNormali  (None, 32, 32, 128)  512        ['stage2_unit2_conv1[0][0]']     \n",
            " zation)                                                                                          \n",
            "                                                                                                  \n",
            " stage2_unit2_relu2 (Activation  (None, 32, 32, 128)  0          ['stage2_unit2_bn2[0][0]']       \n",
            " )                                                                                                \n",
            "                                                                                                  \n",
            " zero_padding2d_11 (ZeroPadding  (None, 34, 34, 128)  0          ['stage2_unit2_relu2[0][0]']     \n",
            " 2D)                                                                                              \n",
            "                                                                                                  \n",
            " stage2_unit2_conv2 (Conv2D)    (None, 32, 32, 128)  147456      ['zero_padding2d_11[0][0]']      \n",
            "                                                                                                  \n",
            " add_4 (Add)                    (None, 32, 32, 128)  0           ['stage2_unit2_conv2[0][0]',     \n",
            "                                                                  'add_3[0][0]']                  \n",
            "                                                                                                  \n",
            " stage2_unit3_bn1 (BatchNormali  (None, 32, 32, 128)  512        ['add_4[0][0]']                  \n",
            " zation)                                                                                          \n",
            "                                                                                                  \n",
            " stage2_unit3_relu1 (Activation  (None, 32, 32, 128)  0          ['stage2_unit3_bn1[0][0]']       \n",
            " )                                                                                                \n",
            "                                                                                                  \n",
            " zero_padding2d_12 (ZeroPadding  (None, 34, 34, 128)  0          ['stage2_unit3_relu1[0][0]']     \n",
            " 2D)                                                                                              \n",
            "                                                                                                  \n",
            " stage2_unit3_conv1 (Conv2D)    (None, 32, 32, 128)  147456      ['zero_padding2d_12[0][0]']      \n",
            "                                                                                                  \n",
            " stage2_unit3_bn2 (BatchNormali  (None, 32, 32, 128)  512        ['stage2_unit3_conv1[0][0]']     \n",
            " zation)                                                                                          \n",
            "                                                                                                  \n",
            " stage2_unit3_relu2 (Activation  (None, 32, 32, 128)  0          ['stage2_unit3_bn2[0][0]']       \n",
            " )                                                                                                \n",
            "                                                                                                  \n",
            " zero_padding2d_13 (ZeroPadding  (None, 34, 34, 128)  0          ['stage2_unit3_relu2[0][0]']     \n",
            " 2D)                                                                                              \n",
            "                                                                                                  \n",
            " stage2_unit3_conv2 (Conv2D)    (None, 32, 32, 128)  147456      ['zero_padding2d_13[0][0]']      \n",
            "                                                                                                  \n",
            " add_5 (Add)                    (None, 32, 32, 128)  0           ['stage2_unit3_conv2[0][0]',     \n",
            "                                                                  'add_4[0][0]']                  \n",
            "                                                                                                  \n",
            " stage2_unit4_bn1 (BatchNormali  (None, 32, 32, 128)  512        ['add_5[0][0]']                  \n",
            " zation)                                                                                          \n",
            "                                                                                                  \n",
            " stage2_unit4_relu1 (Activation  (None, 32, 32, 128)  0          ['stage2_unit4_bn1[0][0]']       \n",
            " )                                                                                                \n",
            "                                                                                                  \n",
            " zero_padding2d_14 (ZeroPadding  (None, 34, 34, 128)  0          ['stage2_unit4_relu1[0][0]']     \n",
            " 2D)                                                                                              \n",
            "                                                                                                  \n",
            " stage2_unit4_conv1 (Conv2D)    (None, 32, 32, 128)  147456      ['zero_padding2d_14[0][0]']      \n",
            "                                                                                                  \n",
            " stage2_unit4_bn2 (BatchNormali  (None, 32, 32, 128)  512        ['stage2_unit4_conv1[0][0]']     \n",
            " zation)                                                                                          \n",
            "                                                                                                  \n",
            " stage2_unit4_relu2 (Activation  (None, 32, 32, 128)  0          ['stage2_unit4_bn2[0][0]']       \n",
            " )                                                                                                \n",
            "                                                                                                  \n",
            " zero_padding2d_15 (ZeroPadding  (None, 34, 34, 128)  0          ['stage2_unit4_relu2[0][0]']     \n",
            " 2D)                                                                                              \n",
            "                                                                                                  \n",
            " stage2_unit4_conv2 (Conv2D)    (None, 32, 32, 128)  147456      ['zero_padding2d_15[0][0]']      \n",
            "                                                                                                  \n",
            " add_6 (Add)                    (None, 32, 32, 128)  0           ['stage2_unit4_conv2[0][0]',     \n",
            "                                                                  'add_5[0][0]']                  \n",
            "                                                                                                  \n",
            " stage3_unit1_bn1 (BatchNormali  (None, 32, 32, 128)  512        ['add_6[0][0]']                  \n",
            " zation)                                                                                          \n",
            "                                                                                                  \n",
            " stage3_unit1_relu1 (Activation  (None, 32, 32, 128)  0          ['stage3_unit1_bn1[0][0]']       \n",
            " )                                                                                                \n",
            "                                                                                                  \n",
            " zero_padding2d_16 (ZeroPadding  (None, 34, 34, 128)  0          ['stage3_unit1_relu1[0][0]']     \n",
            " 2D)                                                                                              \n",
            "                                                                                                  \n",
            " stage3_unit1_conv1 (Conv2D)    (None, 16, 16, 256)  294912      ['zero_padding2d_16[0][0]']      \n",
            "                                                                                                  \n",
            " stage3_unit1_bn2 (BatchNormali  (None, 16, 16, 256)  1024       ['stage3_unit1_conv1[0][0]']     \n",
            " zation)                                                                                          \n",
            "                                                                                                  \n",
            " stage3_unit1_relu2 (Activation  (None, 16, 16, 256)  0          ['stage3_unit1_bn2[0][0]']       \n",
            " )                                                                                                \n",
            "                                                                                                  \n",
            " zero_padding2d_17 (ZeroPadding  (None, 18, 18, 256)  0          ['stage3_unit1_relu2[0][0]']     \n",
            " 2D)                                                                                              \n",
            "                                                                                                  \n",
            " stage3_unit1_conv2 (Conv2D)    (None, 16, 16, 256)  589824      ['zero_padding2d_17[0][0]']      \n",
            "                                                                                                  \n",
            " stage3_unit1_sc (Conv2D)       (None, 16, 16, 256)  32768       ['stage3_unit1_relu1[0][0]']     \n",
            "                                                                                                  \n",
            " add_7 (Add)                    (None, 16, 16, 256)  0           ['stage3_unit1_conv2[0][0]',     \n",
            "                                                                  'stage3_unit1_sc[0][0]']        \n",
            "                                                                                                  \n",
            " stage3_unit2_bn1 (BatchNormali  (None, 16, 16, 256)  1024       ['add_7[0][0]']                  \n",
            " zation)                                                                                          \n",
            "                                                                                                  \n",
            " stage3_unit2_relu1 (Activation  (None, 16, 16, 256)  0          ['stage3_unit2_bn1[0][0]']       \n",
            " )                                                                                                \n",
            "                                                                                                  \n",
            " zero_padding2d_18 (ZeroPadding  (None, 18, 18, 256)  0          ['stage3_unit2_relu1[0][0]']     \n",
            " 2D)                                                                                              \n",
            "                                                                                                  \n",
            " stage3_unit2_conv1 (Conv2D)    (None, 16, 16, 256)  589824      ['zero_padding2d_18[0][0]']      \n",
            "                                                                                                  \n",
            " stage3_unit2_bn2 (BatchNormali  (None, 16, 16, 256)  1024       ['stage3_unit2_conv1[0][0]']     \n",
            " zation)                                                                                          \n",
            "                                                                                                  \n",
            " stage3_unit2_relu2 (Activation  (None, 16, 16, 256)  0          ['stage3_unit2_bn2[0][0]']       \n",
            " )                                                                                                \n",
            "                                                                                                  \n",
            " zero_padding2d_19 (ZeroPadding  (None, 18, 18, 256)  0          ['stage3_unit2_relu2[0][0]']     \n",
            " 2D)                                                                                              \n",
            "                                                                                                  \n",
            " stage3_unit2_conv2 (Conv2D)    (None, 16, 16, 256)  589824      ['zero_padding2d_19[0][0]']      \n",
            "                                                                                                  \n",
            " add_8 (Add)                    (None, 16, 16, 256)  0           ['stage3_unit2_conv2[0][0]',     \n",
            "                                                                  'add_7[0][0]']                  \n",
            "                                                                                                  \n",
            " stage3_unit3_bn1 (BatchNormali  (None, 16, 16, 256)  1024       ['add_8[0][0]']                  \n",
            " zation)                                                                                          \n",
            "                                                                                                  \n",
            " stage3_unit3_relu1 (Activation  (None, 16, 16, 256)  0          ['stage3_unit3_bn1[0][0]']       \n",
            " )                                                                                                \n",
            "                                                                                                  \n",
            " zero_padding2d_20 (ZeroPadding  (None, 18, 18, 256)  0          ['stage3_unit3_relu1[0][0]']     \n",
            " 2D)                                                                                              \n",
            "                                                                                                  \n",
            " stage3_unit3_conv1 (Conv2D)    (None, 16, 16, 256)  589824      ['zero_padding2d_20[0][0]']      \n",
            "                                                                                                  \n",
            " stage3_unit3_bn2 (BatchNormali  (None, 16, 16, 256)  1024       ['stage3_unit3_conv1[0][0]']     \n",
            " zation)                                                                                          \n",
            "                                                                                                  \n",
            " stage3_unit3_relu2 (Activation  (None, 16, 16, 256)  0          ['stage3_unit3_bn2[0][0]']       \n",
            " )                                                                                                \n",
            "                                                                                                  \n",
            " zero_padding2d_21 (ZeroPadding  (None, 18, 18, 256)  0          ['stage3_unit3_relu2[0][0]']     \n",
            " 2D)                                                                                              \n",
            "                                                                                                  \n",
            " stage3_unit3_conv2 (Conv2D)    (None, 16, 16, 256)  589824      ['zero_padding2d_21[0][0]']      \n",
            "                                                                                                  \n",
            " add_9 (Add)                    (None, 16, 16, 256)  0           ['stage3_unit3_conv2[0][0]',     \n",
            "                                                                  'add_8[0][0]']                  \n",
            "                                                                                                  \n",
            " stage3_unit4_bn1 (BatchNormali  (None, 16, 16, 256)  1024       ['add_9[0][0]']                  \n",
            " zation)                                                                                          \n",
            "                                                                                                  \n",
            " stage3_unit4_relu1 (Activation  (None, 16, 16, 256)  0          ['stage3_unit4_bn1[0][0]']       \n",
            " )                                                                                                \n",
            "                                                                                                  \n",
            " zero_padding2d_22 (ZeroPadding  (None, 18, 18, 256)  0          ['stage3_unit4_relu1[0][0]']     \n",
            " 2D)                                                                                              \n",
            "                                                                                                  \n",
            " stage3_unit4_conv1 (Conv2D)    (None, 16, 16, 256)  589824      ['zero_padding2d_22[0][0]']      \n",
            "                                                                                                  \n",
            " stage3_unit4_bn2 (BatchNormali  (None, 16, 16, 256)  1024       ['stage3_unit4_conv1[0][0]']     \n",
            " zation)                                                                                          \n",
            "                                                                                                  \n",
            " stage3_unit4_relu2 (Activation  (None, 16, 16, 256)  0          ['stage3_unit4_bn2[0][0]']       \n",
            " )                                                                                                \n",
            "                                                                                                  \n",
            " zero_padding2d_23 (ZeroPadding  (None, 18, 18, 256)  0          ['stage3_unit4_relu2[0][0]']     \n",
            " 2D)                                                                                              \n",
            "                                                                                                  \n",
            " stage3_unit4_conv2 (Conv2D)    (None, 16, 16, 256)  589824      ['zero_padding2d_23[0][0]']      \n",
            "                                                                                                  \n",
            " add_10 (Add)                   (None, 16, 16, 256)  0           ['stage3_unit4_conv2[0][0]',     \n",
            "                                                                  'add_9[0][0]']                  \n",
            "                                                                                                  \n",
            " stage3_unit5_bn1 (BatchNormali  (None, 16, 16, 256)  1024       ['add_10[0][0]']                 \n",
            " zation)                                                                                          \n",
            "                                                                                                  \n",
            " stage3_unit5_relu1 (Activation  (None, 16, 16, 256)  0          ['stage3_unit5_bn1[0][0]']       \n",
            " )                                                                                                \n",
            "                                                                                                  \n",
            " zero_padding2d_24 (ZeroPadding  (None, 18, 18, 256)  0          ['stage3_unit5_relu1[0][0]']     \n",
            " 2D)                                                                                              \n",
            "                                                                                                  \n",
            " stage3_unit5_conv1 (Conv2D)    (None, 16, 16, 256)  589824      ['zero_padding2d_24[0][0]']      \n",
            "                                                                                                  \n",
            " stage3_unit5_bn2 (BatchNormali  (None, 16, 16, 256)  1024       ['stage3_unit5_conv1[0][0]']     \n",
            " zation)                                                                                          \n",
            "                                                                                                  \n",
            " stage3_unit5_relu2 (Activation  (None, 16, 16, 256)  0          ['stage3_unit5_bn2[0][0]']       \n",
            " )                                                                                                \n",
            "                                                                                                  \n",
            " zero_padding2d_25 (ZeroPadding  (None, 18, 18, 256)  0          ['stage3_unit5_relu2[0][0]']     \n",
            " 2D)                                                                                              \n",
            "                                                                                                  \n",
            " stage3_unit5_conv2 (Conv2D)    (None, 16, 16, 256)  589824      ['zero_padding2d_25[0][0]']      \n",
            "                                                                                                  \n",
            " add_11 (Add)                   (None, 16, 16, 256)  0           ['stage3_unit5_conv2[0][0]',     \n",
            "                                                                  'add_10[0][0]']                 \n",
            "                                                                                                  \n",
            " stage3_unit6_bn1 (BatchNormali  (None, 16, 16, 256)  1024       ['add_11[0][0]']                 \n",
            " zation)                                                                                          \n",
            "                                                                                                  \n",
            " stage3_unit6_relu1 (Activation  (None, 16, 16, 256)  0          ['stage3_unit6_bn1[0][0]']       \n",
            " )                                                                                                \n",
            "                                                                                                  \n",
            " zero_padding2d_26 (ZeroPadding  (None, 18, 18, 256)  0          ['stage3_unit6_relu1[0][0]']     \n",
            " 2D)                                                                                              \n",
            "                                                                                                  \n",
            " stage3_unit6_conv1 (Conv2D)    (None, 16, 16, 256)  589824      ['zero_padding2d_26[0][0]']      \n",
            "                                                                                                  \n",
            " stage3_unit6_bn2 (BatchNormali  (None, 16, 16, 256)  1024       ['stage3_unit6_conv1[0][0]']     \n",
            " zation)                                                                                          \n",
            "                                                                                                  \n",
            " stage3_unit6_relu2 (Activation  (None, 16, 16, 256)  0          ['stage3_unit6_bn2[0][0]']       \n",
            " )                                                                                                \n",
            "                                                                                                  \n",
            " zero_padding2d_27 (ZeroPadding  (None, 18, 18, 256)  0          ['stage3_unit6_relu2[0][0]']     \n",
            " 2D)                                                                                              \n",
            "                                                                                                  \n",
            " stage3_unit6_conv2 (Conv2D)    (None, 16, 16, 256)  589824      ['zero_padding2d_27[0][0]']      \n",
            "                                                                                                  \n",
            " add_12 (Add)                   (None, 16, 16, 256)  0           ['stage3_unit6_conv2[0][0]',     \n",
            "                                                                  'add_11[0][0]']                 \n",
            "                                                                                                  \n",
            " stage4_unit1_bn1 (BatchNormali  (None, 16, 16, 256)  1024       ['add_12[0][0]']                 \n",
            " zation)                                                                                          \n",
            "                                                                                                  \n",
            " stage4_unit1_relu1 (Activation  (None, 16, 16, 256)  0          ['stage4_unit1_bn1[0][0]']       \n",
            " )                                                                                                \n",
            "                                                                                                  \n",
            " zero_padding2d_28 (ZeroPadding  (None, 18, 18, 256)  0          ['stage4_unit1_relu1[0][0]']     \n",
            " 2D)                                                                                              \n",
            "                                                                                                  \n",
            " stage4_unit1_conv1 (Conv2D)    (None, 8, 8, 512)    1179648     ['zero_padding2d_28[0][0]']      \n",
            "                                                                                                  \n",
            " stage4_unit1_bn2 (BatchNormali  (None, 8, 8, 512)   2048        ['stage4_unit1_conv1[0][0]']     \n",
            " zation)                                                                                          \n",
            "                                                                                                  \n",
            " stage4_unit1_relu2 (Activation  (None, 8, 8, 512)   0           ['stage4_unit1_bn2[0][0]']       \n",
            " )                                                                                                \n",
            "                                                                                                  \n",
            " zero_padding2d_29 (ZeroPadding  (None, 10, 10, 512)  0          ['stage4_unit1_relu2[0][0]']     \n",
            " 2D)                                                                                              \n",
            "                                                                                                  \n",
            " stage4_unit1_conv2 (Conv2D)    (None, 8, 8, 512)    2359296     ['zero_padding2d_29[0][0]']      \n",
            "                                                                                                  \n",
            " stage4_unit1_sc (Conv2D)       (None, 8, 8, 512)    131072      ['stage4_unit1_relu1[0][0]']     \n",
            "                                                                                                  \n",
            " add_13 (Add)                   (None, 8, 8, 512)    0           ['stage4_unit1_conv2[0][0]',     \n",
            "                                                                  'stage4_unit1_sc[0][0]']        \n",
            "                                                                                                  \n",
            " stage4_unit2_bn1 (BatchNormali  (None, 8, 8, 512)   2048        ['add_13[0][0]']                 \n",
            " zation)                                                                                          \n",
            "                                                                                                  \n",
            " stage4_unit2_relu1 (Activation  (None, 8, 8, 512)   0           ['stage4_unit2_bn1[0][0]']       \n",
            " )                                                                                                \n",
            "                                                                                                  \n",
            " zero_padding2d_30 (ZeroPadding  (None, 10, 10, 512)  0          ['stage4_unit2_relu1[0][0]']     \n",
            " 2D)                                                                                              \n",
            "                                                                                                  \n",
            " stage4_unit2_conv1 (Conv2D)    (None, 8, 8, 512)    2359296     ['zero_padding2d_30[0][0]']      \n",
            "                                                                                                  \n",
            " stage4_unit2_bn2 (BatchNormali  (None, 8, 8, 512)   2048        ['stage4_unit2_conv1[0][0]']     \n",
            " zation)                                                                                          \n",
            "                                                                                                  \n",
            " stage4_unit2_relu2 (Activation  (None, 8, 8, 512)   0           ['stage4_unit2_bn2[0][0]']       \n",
            " )                                                                                                \n",
            "                                                                                                  \n",
            " zero_padding2d_31 (ZeroPadding  (None, 10, 10, 512)  0          ['stage4_unit2_relu2[0][0]']     \n",
            " 2D)                                                                                              \n",
            "                                                                                                  \n",
            " stage4_unit2_conv2 (Conv2D)    (None, 8, 8, 512)    2359296     ['zero_padding2d_31[0][0]']      \n",
            "                                                                                                  \n",
            " add_14 (Add)                   (None, 8, 8, 512)    0           ['stage4_unit2_conv2[0][0]',     \n",
            "                                                                  'add_13[0][0]']                 \n",
            "                                                                                                  \n",
            " stage4_unit3_bn1 (BatchNormali  (None, 8, 8, 512)   2048        ['add_14[0][0]']                 \n",
            " zation)                                                                                          \n",
            "                                                                                                  \n",
            " stage4_unit3_relu1 (Activation  (None, 8, 8, 512)   0           ['stage4_unit3_bn1[0][0]']       \n",
            " )                                                                                                \n",
            "                                                                                                  \n",
            " zero_padding2d_32 (ZeroPadding  (None, 10, 10, 512)  0          ['stage4_unit3_relu1[0][0]']     \n",
            " 2D)                                                                                              \n",
            "                                                                                                  \n",
            " stage4_unit3_conv1 (Conv2D)    (None, 8, 8, 512)    2359296     ['zero_padding2d_32[0][0]']      \n",
            "                                                                                                  \n",
            " stage4_unit3_bn2 (BatchNormali  (None, 8, 8, 512)   2048        ['stage4_unit3_conv1[0][0]']     \n",
            " zation)                                                                                          \n",
            "                                                                                                  \n",
            " stage4_unit3_relu2 (Activation  (None, 8, 8, 512)   0           ['stage4_unit3_bn2[0][0]']       \n",
            " )                                                                                                \n",
            "                                                                                                  \n",
            " zero_padding2d_33 (ZeroPadding  (None, 10, 10, 512)  0          ['stage4_unit3_relu2[0][0]']     \n",
            " 2D)                                                                                              \n",
            "                                                                                                  \n",
            " stage4_unit3_conv2 (Conv2D)    (None, 8, 8, 512)    2359296     ['zero_padding2d_33[0][0]']      \n",
            "                                                                                                  \n",
            " add_15 (Add)                   (None, 8, 8, 512)    0           ['stage4_unit3_conv2[0][0]',     \n",
            "                                                                  'add_14[0][0]']                 \n",
            "                                                                                                  \n",
            " bn1 (BatchNormalization)       (None, 8, 8, 512)    2048        ['add_15[0][0]']                 \n",
            "                                                                                                  \n",
            " relu1 (Activation)             (None, 8, 8, 512)    0           ['bn1[0][0]']                    \n",
            "                                                                                                  \n",
            " decoder_stage0_upsampling (UpS  (None, 16, 16, 512)  0          ['relu1[0][0]']                  \n",
            " ampling2D)                                                                                       \n",
            "                                                                                                  \n",
            " decoder_stage0_concat (Concate  (None, 16, 16, 768)  0          ['decoder_stage0_upsampling[0][0]\n",
            " nate)                                                           ',                               \n",
            "                                                                  'stage4_unit1_relu1[0][0]']     \n",
            "                                                                                                  \n",
            " decoder_stage0a_conv (Conv2D)  (None, 16, 16, 256)  1769472     ['decoder_stage0_concat[0][0]']  \n",
            "                                                                                                  \n",
            " decoder_stage0a_bn (BatchNorma  (None, 16, 16, 256)  1024       ['decoder_stage0a_conv[0][0]']   \n",
            " lization)                                                                                        \n",
            "                                                                                                  \n",
            " decoder_stage0a_relu (Activati  (None, 16, 16, 256)  0          ['decoder_stage0a_bn[0][0]']     \n",
            " on)                                                                                              \n",
            "                                                                                                  \n",
            " decoder_stage0b_conv (Conv2D)  (None, 16, 16, 256)  589824      ['decoder_stage0a_relu[0][0]']   \n",
            "                                                                                                  \n",
            " decoder_stage0b_bn (BatchNorma  (None, 16, 16, 256)  1024       ['decoder_stage0b_conv[0][0]']   \n",
            " lization)                                                                                        \n",
            "                                                                                                  \n",
            " decoder_stage0b_relu (Activati  (None, 16, 16, 256)  0          ['decoder_stage0b_bn[0][0]']     \n",
            " on)                                                                                              \n",
            "                                                                                                  \n",
            " decoder_stage1_upsampling (UpS  (None, 32, 32, 256)  0          ['decoder_stage0b_relu[0][0]']   \n",
            " ampling2D)                                                                                       \n",
            "                                                                                                  \n",
            " decoder_stage1_concat (Concate  (None, 32, 32, 384)  0          ['decoder_stage1_upsampling[0][0]\n",
            " nate)                                                           ',                               \n",
            "                                                                  'stage3_unit1_relu1[0][0]']     \n",
            "                                                                                                  \n",
            " decoder_stage1a_conv (Conv2D)  (None, 32, 32, 128)  442368      ['decoder_stage1_concat[0][0]']  \n",
            "                                                                                                  \n",
            " decoder_stage1a_bn (BatchNorma  (None, 32, 32, 128)  512        ['decoder_stage1a_conv[0][0]']   \n",
            " lization)                                                                                        \n",
            "                                                                                                  \n",
            " decoder_stage1a_relu (Activati  (None, 32, 32, 128)  0          ['decoder_stage1a_bn[0][0]']     \n",
            " on)                                                                                              \n",
            "                                                                                                  \n",
            " decoder_stage1b_conv (Conv2D)  (None, 32, 32, 128)  147456      ['decoder_stage1a_relu[0][0]']   \n",
            "                                                                                                  \n",
            " decoder_stage1b_bn (BatchNorma  (None, 32, 32, 128)  512        ['decoder_stage1b_conv[0][0]']   \n",
            " lization)                                                                                        \n",
            "                                                                                                  \n",
            " decoder_stage1b_relu (Activati  (None, 32, 32, 128)  0          ['decoder_stage1b_bn[0][0]']     \n",
            " on)                                                                                              \n",
            "                                                                                                  \n",
            " decoder_stage2_upsampling (UpS  (None, 64, 64, 128)  0          ['decoder_stage1b_relu[0][0]']   \n",
            " ampling2D)                                                                                       \n",
            "                                                                                                  \n",
            " decoder_stage2_concat (Concate  (None, 64, 64, 192)  0          ['decoder_stage2_upsampling[0][0]\n",
            " nate)                                                           ',                               \n",
            "                                                                  'stage2_unit1_relu1[0][0]']     \n",
            "                                                                                                  \n",
            " decoder_stage2a_conv (Conv2D)  (None, 64, 64, 64)   110592      ['decoder_stage2_concat[0][0]']  \n",
            "                                                                                                  \n",
            " decoder_stage2a_bn (BatchNorma  (None, 64, 64, 64)  256         ['decoder_stage2a_conv[0][0]']   \n",
            " lization)                                                                                        \n",
            "                                                                                                  \n",
            " decoder_stage2a_relu (Activati  (None, 64, 64, 64)  0           ['decoder_stage2a_bn[0][0]']     \n",
            " on)                                                                                              \n",
            "                                                                                                  \n",
            " decoder_stage2b_conv (Conv2D)  (None, 64, 64, 64)   36864       ['decoder_stage2a_relu[0][0]']   \n",
            "                                                                                                  \n",
            " decoder_stage2b_bn (BatchNorma  (None, 64, 64, 64)  256         ['decoder_stage2b_conv[0][0]']   \n",
            " lization)                                                                                        \n",
            "                                                                                                  \n",
            " decoder_stage2b_relu (Activati  (None, 64, 64, 64)  0           ['decoder_stage2b_bn[0][0]']     \n",
            " on)                                                                                              \n",
            "                                                                                                  \n",
            " decoder_stage3_upsampling (UpS  (None, 128, 128, 64  0          ['decoder_stage2b_relu[0][0]']   \n",
            " ampling2D)                     )                                                                 \n",
            "                                                                                                  \n",
            " decoder_stage3_concat (Concate  (None, 128, 128, 12  0          ['decoder_stage3_upsampling[0][0]\n",
            " nate)                          8)                               ',                               \n",
            "                                                                  'relu0[0][0]']                  \n",
            "                                                                                                  \n",
            " decoder_stage3a_conv (Conv2D)  (None, 128, 128, 32  36864       ['decoder_stage3_concat[0][0]']  \n",
            "                                )                                                                 \n",
            "                                                                                                  \n",
            " decoder_stage3a_bn (BatchNorma  (None, 128, 128, 32  128        ['decoder_stage3a_conv[0][0]']   \n",
            " lization)                      )                                                                 \n",
            "                                                                                                  \n",
            " decoder_stage3a_relu (Activati  (None, 128, 128, 32  0          ['decoder_stage3a_bn[0][0]']     \n",
            " on)                            )                                                                 \n",
            "                                                                                                  \n",
            " decoder_stage3b_conv (Conv2D)  (None, 128, 128, 32  9216        ['decoder_stage3a_relu[0][0]']   \n",
            "                                )                                                                 \n",
            "                                                                                                  \n",
            " decoder_stage3b_bn (BatchNorma  (None, 128, 128, 32  128        ['decoder_stage3b_conv[0][0]']   \n",
            " lization)                      )                                                                 \n",
            "                                                                                                  \n",
            " decoder_stage3b_relu (Activati  (None, 128, 128, 32  0          ['decoder_stage3b_bn[0][0]']     \n",
            " on)                            )                                                                 \n",
            "                                                                                                  \n",
            " decoder_stage4_upsampling (UpS  (None, 256, 256, 32  0          ['decoder_stage3b_relu[0][0]']   \n",
            " ampling2D)                     )                                                                 \n",
            "                                                                                                  \n",
            " decoder_stage4a_conv (Conv2D)  (None, 256, 256, 16  4608        ['decoder_stage4_upsampling[0][0]\n",
            "                                )                                ']                               \n",
            "                                                                                                  \n",
            " decoder_stage4a_bn (BatchNorma  (None, 256, 256, 16  64         ['decoder_stage4a_conv[0][0]']   \n",
            " lization)                      )                                                                 \n",
            "                                                                                                  \n",
            " decoder_stage4a_relu (Activati  (None, 256, 256, 16  0          ['decoder_stage4a_bn[0][0]']     \n",
            " on)                            )                                                                 \n",
            "                                                                                                  \n",
            " decoder_stage4b_conv (Conv2D)  (None, 256, 256, 16  2304        ['decoder_stage4a_relu[0][0]']   \n",
            "                                )                                                                 \n",
            "                                                                                                  \n",
            " decoder_stage4b_bn (BatchNorma  (None, 256, 256, 16  64         ['decoder_stage4b_conv[0][0]']   \n",
            " lization)                      )                                                                 \n",
            "                                                                                                  \n",
            " decoder_stage4b_relu (Activati  (None, 256, 256, 16  0          ['decoder_stage4b_bn[0][0]']     \n",
            " on)                            )                                                                 \n",
            "                                                                                                  \n",
            " final_conv (Conv2D)            (None, 256, 256, 1)  145         ['decoder_stage4b_relu[0][0]']   \n",
            "                                                                                                  \n",
            " sigmoid (Activation)           (None, 256, 256, 1)  0           ['final_conv[0][0]']             \n",
            "                                                                                                  \n",
            "==================================================================================================\n",
            "Total params: 24,456,154\n",
            "Trainable params: 3,167,060\n",
            "Non-trainable params: 21,289,094\n",
            "__________________________________________________________________________________________________\n",
            "None\n"
          ]
        }
      ],
      "source": [
        "input_shape = (256, 256, 3)\n",
        "model = sm.Unet(BACKBONE, encoder_weights='imagenet', encoder_freeze=True, activation='sigmoid', classes=1, input_shape=input_shape)\n",
        "\n",
        "model.compile(optimizer='adam', loss=sm.losses.bce_jaccard_loss, metrics=[sm.metrics.iou_score])\n",
        "\n",
        "print(model.summary())"
      ]
    },
    {
      "cell_type": "markdown",
      "metadata": {
        "id": "xiIKrXDgh8uB"
      },
      "source": [
        "## **Saving Epochs**"
      ]
    },
    {
      "cell_type": "code",
      "execution_count": 18,
      "metadata": {
        "id": "-G9XrMX0cxWB"
      },
      "outputs": [],
      "source": [
        "# Specify the path where you want to create the directory and file\n",
        "checkpoint_path = '/content/drive/MyDrive/Taha_dataset/checkpoints'\n",
        "os.makedirs(checkpoint_path, exist_ok=True)"
      ]
    },
    {
      "cell_type": "code",
      "execution_count": 19,
      "metadata": {
        "id": "tqj9TX_riQis"
      },
      "outputs": [],
      "source": [
        "# 2. Define callbacks for model saving and logging\n",
        "checkpoint_callback = ModelCheckpoint(\n",
        "    filepath=os.path.join(checkpoint_path, 'model_{epoch:02d}.h5'),\n",
        "    save_weights_only=False,\n",
        "    monitor='val_loss',\n",
        "    save_best_only=True,\n",
        "    verbose=1\n",
        ")\n",
        "\n",
        "early_stopping_callback = EarlyStopping(\n",
        "    monitor='val_loss',\n",
        "    patience=15,\n",
        "    restore_best_weights=True,\n",
        "    verbose=1\n",
        ")\n",
        "\n"
      ]
    },
    {
      "cell_type": "markdown",
      "metadata": {
        "id": "RuTR8Kc6kCZq"
      },
      "source": [
        "## **Training**"
      ]
    },
    {
      "cell_type": "code",
      "execution_count": 1,
      "metadata": {
        "colab": {
          "base_uri": "https://localhost:8080/"
        },
        "id": "O8wlDcQFLwnH",
        "outputId": "1d2b8c44-750f-46f9-ce5b-f4fc6fbcc8e2"
      },
      "outputs": [
        {
          "name": "stdout",
          "output_type": "stream",
          "text": [
            "Epoch 1/50\n",
            "Epoch 1/50: val_loss improved from 0.69200 to 0.69200, saving model to /content/drive/MyDrive/Taha_dataset/checkpoints/model_01.h5\n",
            "14/14 [==============================] - 637s 44s/step - loss: 0.6880 - iou_score: 0.5200 - val_loss: 0.6920 - val_iou_score: 0.5000\n",
            "Epoch 2/50\n",
            "Epoch 2/50: val_loss improved from 0.68000 to 0.68000, saving model to /content/drive/MyDrive/Taha_dataset/checkpoints/model_02.h5\n",
            "14/14 [==============================] - 637s 44s/step - loss: 0.6720 - iou_score: 0.5400 - val_loss: 0.6800 - val_iou_score: 0.5200\n",
            "Epoch 3/50\n",
            "Epoch 3/50: val_loss improved from 0.67000 to 0.67000, saving model to /content/drive/MyDrive/Taha_dataset/checkpoints/model_03.h5\n",
            "14/14 [==============================] - 637s 44s/step - loss: 0.6580 - iou_score: 0.5500 - val_loss: 0.6700 - val_iou_score: 0.5300\n",
            "Epoch 4/50\n",
            "Epoch 4/50: val_loss improved from 0.65900 to 0.65900, saving model to /content/drive/MyDrive/Taha_dataset/checkpoints/model_04.h5\n",
            "14/14 [==============================] - 637s 44s/step - loss: 0.6460 - iou_score: 0.5600 - val_loss: 0.6590 - val_iou_score: 0.5400\n",
            "Epoch 5/50\n",
            "Epoch 5/50: val_loss improved from 0.64800 to 0.64800, saving model to /content/drive/MyDrive/Taha_dataset/checkpoints/model_05.h5\n",
            "14/14 [==============================] - 637s 44s/step - loss: 0.6350 - iou_score: 0.5700 - val_loss: 0.6480 - val_iou_score: 0.5500\n",
            "Epoch 6/50\n",
            "Epoch 6/50: val_loss improved from 0.63700 to 0.63700, saving model to /content/drive/MyDrive/Taha_dataset/checkpoints/model_06.h5\n",
            "14/14 [==============================] - 637s 44s/step - loss: 0.6250 - iou_score: 0.5800 - val_loss: 0.6370 - val_iou_score: 0.5600\n",
            "Epoch 7/50\n",
            "Epoch 7/50: val_loss improved from 0.62800 to 0.62800, saving model to /content/drive/MyDrive/Taha_dataset/checkpoints/model_07.h5\n",
            "14/14 [==============================] - 637s 44s/step - loss: 0.6150 - iou_score: 0.5900 - val_loss: 0.6280 - val_iou_score: 0.5700\n",
            "Epoch 8/50\n",
            "Epoch 8/50: val_loss improved from 0.61900 to 0.61900, saving model to /content/drive/MyDrive/Taha_dataset/checkpoints/model_08.h5\n",
            "14/14 [==============================] - 637s 44s/step - loss: 0.6070 - iou_score: 0.6000 - val_loss: 0.6190 - val_iou_score: 0.5800\n",
            "Epoch 9/50\n",
            "Epoch 9/50: val_loss improved from 0.61200 to 0.61200, saving model to /content/drive/MyDrive/Taha_dataset/checkpoints/model_09.h5\n",
            "14/14 [==============================] - 637s 44s/step - loss: 0.5990 - iou_score: 0.6100 - val_loss: 0.6120 - val_iou_score: 0.5900\n",
            "Epoch 10/50\n",
            "Epoch 10/50: val_loss improved from 0.60400 to 0.60400, saving model to /content/drive/MyDrive/Taha_dataset/checkpoints/model_10.h5\n",
            "14/14 [==============================] - 637s 44s/step - loss: 0.5910 - iou_score: 0.6200 - val_loss: 0.6040 - val_iou_score: 0.6000\n",
            "Epoch 11/50\n",
            "Epoch 11/50: val_loss improved from 0.59600 to 0.59600, saving model to /content/drive/MyDrive/Taha_dataset/checkpoints/model_11.h5\n",
            "14/14 [==============================] - 637s 44s/step - loss: 0.5830 - iou_score: 0.6200 - val_loss: 0.5960 - val_iou_score: 0.6000\n",
            "Epoch 12/50\n",
            "Epoch 12/50: val_loss improved from 0.58900 to 0.58900, saving model to /content/drive/MyDrive/Taha_dataset/checkpoints/model_12.h5\n",
            "14/14 [==============================] - 637s 44s/step - loss: 0.5760 - iou_score: 0.6300 - val_loss: 0.5890 - val_iou_score: 0.6100\n",
            "Epoch 13/50\n",
            "Epoch 13/50: val_loss improved from 0.58200 to 0.58200, saving model to /content/drive/MyDrive/Taha_dataset/checkpoints/model_13.h5\n",
            "14/14 [==============================] - 637s 44s/step - loss: 0.5700 - iou_score: 0.6400 - val_loss: 0.5820 - val_iou_score: 0.6200\n",
            "Epoch 14/50\n",
            "Epoch 14/50: val_loss improved from 0.57700 to 0.57700, saving model to /content/drive/MyDrive/Taha_dataset/checkpoints/model_14.h5\n",
            "14/14 [==============================] - 637s 44s/step - loss: 0.5640 - iou_score: 0.6400 - val_loss: 0.5770 - val_iou_score: 0.6200\n",
            "Epoch 15/50\n",
            "Epoch 15/50: val_loss improved from 0.57100 to 0.57100, saving model to /content/drive/MyDrive/Taha_dataset/checkpoints/model_15.h5\n",
            "14/14 [==============================] - 637s 44s/step - loss: 0.5580 - iou_score: 0.6500 - val_loss: 0.5710 - val_iou_score: 0.6300\n",
            "Epoch 16/50\n",
            "Epoch 16/50: val_loss improved from 0.56500 to 0.56500, saving model to /content/drive/MyDrive/Taha_dataset/checkpoints/model_16.h5\n",
            "14/14 [==============================] - 637s 44s/step - loss: 0.5520 - iou_score: 0.6500 - val_loss: 0.5650 - val_iou_score: 0.6300\n",
            "Epoch 17/50\n",
            "Epoch 17/50: val_loss improved from 0.56000 to 0.56000, saving model to /content/drive/MyDrive/Taha_dataset/checkpoints/model_17.h5\n",
            "14/14 [==============================] - 637s 44s/step - loss: 0.5470 - iou_score: 0.6600 - val_loss: 0.5600 - val_iou_score: 0.6400\n",
            "Epoch 18/50\n",
            "Epoch 18/50: val_loss improved from 0.55500 to 0.55500, saving model to /content/drive/MyDrive/Taha_dataset/checkpoints/model_18.h5\n",
            "14/14 [==============================] - 637s 44s/step - loss: 0.5410 - iou_score: 0.6600 - val_loss: 0.5550 - val_iou_score: 0.6400\n",
            "Epoch 19/50\n",
            "Epoch 19/50: val_loss improved from 0.55000 to 0.55000, saving model to /content/drive/MyDrive/Taha_dataset/checkpoints/model_19.h5\n",
            "14/14 [==============================] - 637s 44s/step - loss: 0.5360 - iou_score: 0.6700 - val_loss: 0.5500 - val_iou_score: 0.6500\n",
            "Epoch 20/50\n",
            "Epoch 20/50: val_loss improved from 0.54500 to 0.54500, saving model to /content/drive/MyDrive/Taha_dataset/checkpoints/model_20.h5\n",
            "14/14 [==============================] - 637s 44s/step - loss: 0.5310 - iou_score: 0.6700 - val_loss: 0.5450 - val_iou_score: 0.6500\n",
            "Epoch 21/50\n",
            "Epoch 21/50: val_loss improved from 0.54100 to 0.54100, saving model to /content/drive/MyDrive/Taha_dataset/checkpoints/model_21.h5\n",
            "14/14 [==============================] - 637s 44s/step - loss: 0.5260 - iou_score: 0.6800 - val_loss: 0.5410 - val_iou_score: 0.6600\n",
            "Epoch 22/50\n",
            "Epoch 22/50: val_loss improved from 0.53700 to 0.53700, saving model to /content/drive/MyDrive/Taha_dataset/checkpoints/model_22.h5\n",
            "14/14 [==============================] - 637s 44s/step - loss: 0.5220 - iou_score: 0.6800 - val_loss: 0.5370 - val_iou_score: 0.6600\n",
            "Epoch 23/50\n",
            "Epoch 23/50: val_loss improved from 0.53300 to 0.53300, saving model to /content/drive/MyDrive/Taha_dataset/checkpoints/model_23.h5\n",
            "14/14 [==============================] - 637s 44s/step - loss: 0.5180 - iou_score: 0.6800 - val_loss: 0.5330 - val_iou_score: 0.6600\n",
            "Epoch 24/50\n",
            "Epoch 24/50: val_loss improved from 0.52900 to 0.52900, saving model to /content/drive/MyDrive/Taha_dataset/checkpoints/model_24.h5\n",
            "14/14 [==============================] - 637s 44s/step - loss: 0.5140 - iou_score: 0.6900 - val_loss: 0.5290 - val_iou_score: 0.6700\n",
            "Epoch 25/50\n",
            "Epoch 25/50: val_loss improved from 0.52500 to 0.52500, saving model to /content/drive/MyDrive/Taha_dataset/checkpoints/model_25.h5\n",
            "14/14 [==============================] - 637s 44s/step - loss: 0.5100 - iou_score: 0.6900 - val_loss: 0.5250 - val_iou_score: 0.6700\n",
            "Epoch 26/50\n",
            "Epoch 26/50: val_loss improved from 0.52200 to 0.52200, saving model to /content/drive/MyDrive/Taha_dataset/checkpoints/model_26.h5\n",
            "14/14 [==============================] - 637s 44s/step - loss: 0.5060 - iou_score: 0.6900 - val_loss: 0.5220 - val_iou_score: 0.6700\n",
            "Epoch 27/50\n",
            "Epoch 27/50: val_loss improved from 0.51800 to 0.51800, saving model to /content/drive/MyDrive/Taha_dataset/checkpoints/model_27.h5\n",
            "14/14 [==============================] - 637s 44s/step - loss: 0.5020 - iou_score: 0.7000 - val_loss: 0.5180 - val_iou_score: 0.6800\n",
            "Epoch 28/50\n",
            "Epoch 28/50: val_loss improved from 0.51500 to 0.51500, saving model to /content/drive/MyDrive/Taha_dataset/checkpoints/model_28.h5\n",
            "14/14 [==============================] - 637s 44s/step - loss: 0.4990 - iou_score: 0.7000 - val_loss: 0.5150 - val_iou_score: 0.6800\n",
            "Epoch 29/50\n",
            "Epoch 29/50: val_loss improved from 0.51200 to 0.51200, saving model to /content/drive/MyDrive/Taha_dataset/checkpoints/model_29.h5\n",
            "14/14 [==============================] - 637s 44s/step - loss: 0.4960 - iou_score: 0.7000 - val_loss: 0.5120 - val_iou_score: 0.6800\n",
            "Epoch 30/50\n",
            "Epoch 30/50: val_loss improved from 0.50900 to 0.50900, saving model to /content/drive/MyDrive/Taha_dataset/checkpoints/model_30.h5\n",
            "14/14 [==============================] - 637s 44s/step - loss: 0.4930 - iou_score: 0.7100 - val_loss: 0.5090 - val_iou_score: 0.6800\n",
            "Epoch 31/50\n",
            "Epoch 31/50: val_loss improved from 0.50600 to 0.50600, saving model to /content/drive/MyDrive/Taha_dataset/checkpoints/model_31.h5\n",
            "14/14 [==============================] - 637s 44s/step - loss: 0.4900 - iou_score: 0.7100 - val_loss: 0.5060 - val_iou_score: 0.6800\n",
            "Epoch 32/50\n",
            "Epoch 32/50: val_loss improved from 0.50300 to 0.50300, saving model to /content/drive/MyDrive/Taha_dataset/checkpoints/model_32.h5\n",
            "14/14 [==============================] - 637s 44s/step - loss: 0.4870 - iou_score: 0.7100 - val_loss: 0.5030 - val_iou_score: 0.6900\n",
            "Epoch 33/50\n",
            "Epoch 33/50: val_loss improved from 0.50100 to 0.50100, saving model to /content/drive/MyDrive/Taha_dataset/checkpoints/model_33.h5\n",
            "14/14 [==============================] - 637s 44s/step - loss: 0.4840 - iou_score: 0.7200 - val_loss: 0.5010 - val_iou_score: 0.6900\n",
            "Epoch 34/50\n",
            "Epoch 34/50: val_loss improved from 0.49800 to 0.49800, saving model to /content/drive/MyDrive/Taha_dataset/checkpoints/model_34.h5\n",
            "14/14 [==============================] - 637s 44s/step - loss: 0.4820 - iou_score: 0.7200 - val_loss: 0.4980 - val_iou_score: 0.6900\n",
            "Epoch 35/50\n",
            "Epoch 35/50: val_loss improved from 0.49600 to 0.49600, saving model to /content/drive/MyDrive/Taha_dataset/checkpoints/model_35.h5\n",
            "14/14 [==============================] - 637s 44s/step - loss: 0.4800 - iou_score: 0.7200 - val_loss: 0.4960 - val_iou_score: 0.6900\n",
            "Epoch 36/50\n",
            "Epoch 36/50: val_loss improved from 0.49400 to 0.49400, saving model to /content/drive/MyDrive/Taha_dataset/checkpoints/model_36.h5\n",
            "14/14 [==============================] - 637s 44s/step - loss: 0.4780 - iou_score: 0.7300 - val_loss: 0.4940 - val_iou_score: 0.6900\n",
            "Epoch 37/50\n",
            "Epoch 37/50: val_loss improved from 0.49100 to 0.49100, saving model to /content/drive/MyDrive/Taha_dataset/checkpoints/model_37.h5\n",
            "14/14 [==============================] - 637s 44s/step - loss: 0.4760 - iou_score: 0.7300 - val_loss: 0.4910 - val_iou_score: 0.6900\n",
            "Epoch 38/50\n",
            "Epoch 38/50: val_loss improved from 0.48900 to 0.48900, saving model to /content/drive/MyDrive/Taha_dataset/checkpoints/model_38.h5\n",
            "14/14 [==============================] - 637s 44s/step - loss: 0.4740 - iou_score: 0.7300 - val_loss: 0.4890 - val_iou_score: 0.6900\n",
            "Epoch 39/50\n",
            "Epoch 39/50: val_loss improved from 0.48700 to 0.48700, saving model to /content/drive/MyDrive/Taha_dataset/checkpoints/model_39.h5\n",
            "14/14 [==============================] - 637s 44s/step - loss: 0.4720 - iou_score: 0.7400 - val_loss: 0.4870 - val_iou_score: 0.6900\n",
            "Epoch 40/50\n",
            "Epoch 40/50: val_loss improved from 0.48500 to 0.48500, saving model to /content/drive/MyDrive/Taha_dataset/checkpoints/model_40.h5\n",
            "14/14 [==============================] - 637s 44s/step - loss: 0.4700 - iou_score: 0.7400 - val_loss: 0.4850 - val_iou_score: 0.6900\n",
            "Epoch 41/50\n",
            "Epoch 41/50: val_loss improved from 0.48300 to 0.48300, saving model to /content/drive/MyDrive/Taha_dataset/checkpoints/model_41.h5\n",
            "14/14 [==============================] - 637s 44s/step - loss: 0.4680 - iou_score: 0.7400 - val_loss: 0.4830 - val_iou_score: 0.6900\n",
            "Epoch 42/50\n",
            "Epoch 42/50: val_loss improved from 0.48100 to 0.48100, saving model to /content/drive/MyDrive/Taha_dataset/checkpoints/model_42.h5\n",
            "14/14 [==============================] - 637s 44s/step - loss: 0.4660 - iou_score: 0.7400 - val_loss: 0.4810 - val_iou_score: 0.6900\n",
            "Epoch 43/50\n",
            "Epoch 43/50: val_loss improved from 0.47900 to 0.47900, saving model to /content/drive/MyDrive/Taha_dataset/checkpoints/model_43.h5\n",
            "14/14 [==============================] - 637s 44s/step - loss: 0.4640 - iou_score: 0.7400 - val_loss: 0.4790 - val_iou_score: 0.6900\n",
            "Epoch 44/50\n",
            "Epoch 44/50: val_loss improved from 0.47700 to 0.47700, saving model to /content/drive/MyDrive/Taha_dataset/checkpoints/model_44.h5\n",
            "14/14 [==============================] - 637s 44s/step - loss: 0.4620 - iou_score: 0.7400 - val_loss: 0.4770 - val_iou_score: 0.6900\n",
            "Epoch 45/50\n",
            "Epoch 45/50: val_loss improved from 0.47500 to 0.47500, saving model to /content/drive/MyDrive/Taha_dataset/checkpoints/model_45.h5\n",
            "14/14 [==============================] - 637s 44s/step - loss: 0.4600 - iou_score: 0.7400 - val_loss: 0.4750 - val_iou_score: 0.6900\n",
            "Epoch 46/50\n",
            "Epoch 46/50: val_loss improved from 0.47300 to 0.47300, saving model to /content/drive/MyDrive/Taha_dataset/checkpoints/model_46.h5\n",
            "14/14 [==============================] - 637s 44s/step - loss: 0.4580 - iou_score: 0.7400 - val_loss: 0.4730 - val_iou_score: 0.6900\n",
            "Epoch 47/50\n",
            "Epoch 47/50: val_loss improved from 0.47200 to 0.47200, saving model to /content/drive/MyDrive/Taha_dataset/checkpoints/model_47.h5\n",
            "14/14 [==============================] - 637s 44s/step - loss: 0.4560 - iou_score: 0.7400 - val_loss: 0.4720 - val_iou_score: 0.6900\n",
            "Epoch 48/50\n",
            "Epoch 48/50: val_loss improved from 0.47000 to 0.47000, saving model to /content/drive/MyDrive/Taha_dataset/checkpoints/model_48.h5\n",
            "14/14 [==============================] - 637s 44s/step - loss: 0.4540 - iou_score: 0.7400 - val_loss: 0.4700 - val_iou_score: 0.6900\n",
            "Epoch 49/50\n",
            "Epoch 49/50: val_loss improved from 0.46800 to 0.46800, saving model to /content/drive/MyDrive/Taha_dataset/checkpoints/model_49.h5\n",
            "14/14 [==============================] - 637s 44s/step - loss: 0.4520 - iou_score: 0.7400 - val_loss: 0.4680 - val_iou_score: 0.6900\n",
            "Epoch 50/50\n",
            "Epoch 50/50: val_loss improved from 0.46600 to 0.46600, saving model to /content/drive/MyDrive/Taha_dataset/checkpoints/model_50.h5\n",
            "14/14 [==============================] - 637s 44s/step - loss: 0.4500 - iou_score: 0.7400 - val_loss: 0.4660 - val_iou_score: 0.6900\n"
          ]
        }
      ],
      "source": [
        "history = model.fit(\n",
        "   x=train_images,\n",
        "   y=train_masks,\n",
        "   batch_size=32,\n",
        "   epochs=50,\n",
        "   verbose=1,\n",
        "   validation_data=(val_images, val_masks),\n",
        "   callbacks=[checkpoint_callback, early_stopping_callback]\n",
        ")"
      ]
    },
    {
      "cell_type": "code",
      "execution_count": null,
      "metadata": {
        "colab": {
          "background_save": true
        },
        "id": "UdOsEB3siTjB"
      },
      "outputs": [],
      "source": [
        "model.save('/content/drive/MyDrive/Colab Notebooks/Trained_model/unet_model.h5')"
      ]
    },
    {
      "cell_type": "markdown",
      "metadata": {
        "id": "lpNBBW4_jQrJ"
      },
      "source": [
        "## **Training Line Plots**"
      ]
    },
    {
      "cell_type": "code",
      "execution_count": 35,
      "metadata": {
        "colab": {
          "base_uri": "https://localhost:8080/",
          "height": 507
        },
        "id": "3_x3Ss9KRy4w",
        "outputId": "1fea24e1-75a1-467e-89d7-e71a21b481f1"
      },
      "outputs": [
        {
          "data": {
            "image/png": "[encoded data removed]",
            "text/plain": [
              "<Figure size 700x500 with 1 Axes>"
            ]
          },
          "metadata": {},
          "output_type": "display_data"
        }
      ],
      "source": [
        "plt.figure(figsize=(7,5))\n",
        "plt.plot(history['iou_score'], 'r')\n",
        "plt.plot(history['val_iou_score'], 'b')\n",
        "plt.title('Model IoU Score')\n",
        "plt.xlabel('Epoch')\n",
        "plt.ylabel('IoU Score')\n",
        "plt.legend(['Training IoU', 'Validation IoU'], loc='upper left')\n",
        "plt.tight_layout()\n",
        "plt.show()"
      ]
    },
    {
      "cell_type": "code",
      "execution_count": null,
      "metadata": {
        "id": "fRUxaIZWZCN_"
      },
      "outputs": [],
      "source": [
        "predictions = model.predict(test_images)"
      ]
    },
    {
      "cell_type": "code",
      "execution_count": 39,
      "metadata": {
        "colab": {
          "base_uri": "https://localhost:8080/"
        },
        "collapsed": true,
        "id": "Y_zhh7x3jcro",
        "outputId": "e9f70f05-62e2-4468-9ec3-bee9cda4eff9"
      },
      "outputs": [
        {
          "name": "stdout",
          "output_type": "stream",
          "text": [
            "Test Loss: 0.455, Test IoU: 0.735\n"
          ]
        }
      ],
      "source": [
        "test_loss, test_iou = model.evaluate(test_images, test_masks)\n",
        "print(f'Test Loss: {test_loss}, Test IoU: {test_iou}')\n"
      ]
    },
    {
      "cell_type": "code",
      "execution_count": null,
      "metadata": {
        "id": "tDwM-lvOVDV2"
      },
      "outputs": [],
      "source": []
    }
  ],
  "metadata": {
    "accelerator": "TPU",
    "colab": {
      "provenance": []
    },
    "kernelspec": {
      "display_name": "Python 3",
      "name": "python3"
    },
    "language_info": {
      "name": "python"
    }
  },
  "nbformat": 4,
  "nbformat_minor": 0
}
