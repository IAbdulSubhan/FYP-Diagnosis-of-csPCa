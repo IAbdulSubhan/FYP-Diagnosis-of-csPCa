{
  "cells": [
    {
      "cell_type": "code",
      "execution_count": 1,
      "metadata": {
        "id": "sxTjx__wFqHs",
        "colab": {
          "base_uri": "https://localhost:8080/"
        },
        "outputId": "97be953e-c0ff-4478-e5dd-6e28544cdb72"
      },
      "outputs": [
        {
          "output_type": "stream",
          "name": "stdout",
          "text": [
            "Mounted at /content/drive\n"
          ]
        }
      ],
      "source": [
        "from google.colab import drive\n",
        "drive.mount('/content/drive')\n"
      ]
    },
    {
      "cell_type": "code",
      "execution_count": 2,
      "metadata": {
        "colab": {
          "base_uri": "https://localhost:8080/"
        },
        "id": "P9V8jUSwGE3a",
        "outputId": "c2435262-9823-4673-9072-016d03445ce9"
      },
      "outputs": [
        {
          "output_type": "stream",
          "name": "stdout",
          "text": [
            "TensorFlow version: 2.15.0\n",
            "Keras version: 2.15.0\n"
          ]
        }
      ],
      "source": [
        "import tensorflow as tf\n",
        "import keras\n",
        "\n",
        "print(\"TensorFlow version:\", tf.__version__)\n",
        "print(\"Keras version:\", keras.__version__)"
      ]
    },
    {
      "cell_type": "code",
      "execution_count": 3,
      "metadata": {
        "id": "ps_wl_8zGI7K"
      },
      "outputs": [],
      "source": [
        "from tensorflow.keras.layers import Input, Lambda, Conv2D, Dense, Flatten, Dropout\n",
        "from tensorflow.keras.models import Model\n",
        "from tensorflow.keras.preprocessing import image\n",
        "from tensorflow.keras.preprocessing.image import ImageDataGenerator\n",
        "from tensorflow.keras.models import Sequential\n",
        "from tensorflow.keras.optimizers import Adam\n",
        "import os\n",
        "import numpy as np\n",
        "import pandas as pd\n",
        "import shutil\n",
        "from glob import glob\n",
        "import matplotlib.pyplot as plt\n",
        "import random\n",
        "from tensorflow.keras.callbacks import ModelCheckpoint, EarlyStopping"
      ]
    },
    {
      "cell_type": "code",
      "execution_count": 4,
      "metadata": {
        "colab": {
          "base_uri": "https://localhost:8080/"
        },
        "id": "qb7WFtvhGt_S",
        "outputId": "1e028746-f860-4907-e26c-5ec656b0820a"
      },
      "outputs": [
        {
          "output_type": "stream",
          "name": "stdout",
          "text": [
            "Found 961 images belonging to 2 classes.\n",
            "Found 193 images belonging to 2 classes.\n",
            "Found 186 images belonging to 2 classes.\n"
          ]
        }
      ],
      "source": [
        "# re-size all the images to this\n",
        "image_size = 224\n",
        "batch_size = 32\n",
        "\n",
        "source_dir = \"/content/drive/MyDrive/Colab Notebooks/Dataset\"\n",
        "train_dir = \"/content/drive/MyDrive/Colab Notebooks/Dataset/Train\"\n",
        "test_dir = \"/content/drive/MyDrive/Colab Notebooks/Dataset/Test\"\n",
        "validate_dir = \"/content/drive/MyDrive/Colab Notebooks/Dataset/Validate\"\n",
        "\n",
        "# Define data generators for train, validation, and test sets\n",
        "Train_Datagen = ImageDataGenerator(dtype='float32', preprocessing_function=tf.keras.applications.vgg16.preprocess_input)\n",
        "Val_Datagen = ImageDataGenerator(dtype='float32', preprocessing_function=tf.keras.applications.vgg16.preprocess_input)\n",
        "Test_Datagen = ImageDataGenerator(dtype='float32', preprocessing_function=tf.keras.applications.vgg16.preprocess_input)\n",
        "\n",
        "# Create train, validation, and test generators\n",
        "batch_size = 32\n",
        "train_generator = Train_Datagen.flow_from_directory(train_dir, target_size=(224, 224), batch_size=batch_size, class_mode='binary')\n",
        "val_generator = Val_Datagen.flow_from_directory(validate_dir, target_size=(224, 224), batch_size=batch_size, class_mode='binary')\n",
        "test_generator = Test_Datagen.flow_from_directory(test_dir, target_size=(224, 224), batch_size=batch_size, class_mode='binary')"
      ]
    },
    {
      "cell_type": "code",
      "execution_count": 5,
      "metadata": {
        "colab": {
          "base_uri": "https://localhost:8080/"
        },
        "id": "bCubd3JjGyko",
        "outputId": "36d7f5b9-e9b9-4352-f4c4-b5e8886245d8"
      },
      "outputs": [
        {
          "output_type": "stream",
          "name": "stdout",
          "text": [
            "Shape of training batch images: (32, 224, 224, 3)\n",
            "Shape of training batch labels: (32,)\n",
            "Shape of validation batch images: (32, 224, 224, 3)\n",
            "Shape of validation batch labels: (32,)\n",
            "Shape of testing batch images: (32, 224, 224, 3)\n",
            "Shape of testing batch labels: (32,)\n"
          ]
        }
      ],
      "source": [
        "# Get a batch of data from the generator\n",
        "batch_train_images, batch_train_labels = next(train_generator)\n",
        "batch_val_images, batch_val_labels = next(val_generator)\n",
        "batch_test_images, batch_test_labels = next(test_generator)\n",
        "\n",
        "# Check the shape of the batch data\n",
        "print(\"Shape of training batch images:\", batch_train_images.shape)\n",
        "print(\"Shape of training batch labels:\", batch_train_labels.shape)\n",
        "print(\"Shape of validation batch images:\", batch_val_images.shape)\n",
        "print(\"Shape of validation batch labels:\", batch_val_labels.shape)\n",
        "print(\"Shape of testing batch images:\", batch_test_images.shape)\n",
        "print(\"Shape of testing batch labels:\", batch_test_labels.shape)"
      ]
    },
    {
      "cell_type": "code",
      "execution_count": 6,
      "metadata": {
        "colab": {
          "base_uri": "https://localhost:8080/"
        },
        "id": "kjGeUqT3G1r3",
        "outputId": "210db7cf-e4bf-4214-bbaa-30868cd97400"
      },
      "outputs": [
        {
          "output_type": "execute_result",
          "data": {
            "text/plain": [
              "{'no': 0, 'yes': 1}"
            ]
          },
          "metadata": {},
          "execution_count": 6
        }
      ],
      "source": [
        "train_generator.class_indices"
      ]
    },
    {
      "cell_type": "code",
      "execution_count": 8,
      "metadata": {
        "colab": {
          "base_uri": "https://localhost:8080/"
        },
        "id": "zhjIEcG-G9mJ",
        "outputId": "b4a0c662-a63b-4a7d-ab2c-510815800e2b"
      },
      "outputs": [
        {
          "output_type": "stream",
          "name": "stdout",
          "text": [
            "Downloading data from https://storage.googleapis.com/tensorflow/keras-applications/vgg16/vgg16_weights_tf_dim_ordering_tf_kernels_notop.h5\n",
            "58889256/58889256 [==============================] - 0s 0us/step\n",
            "Model: \"sequential\"\n",
            "_________________________________________________________________\n",
            " Layer (type)                Output Shape              Param #   \n",
            "=================================================================\n",
            " vgg16 (Functional)          (None, 7, 7, 512)         14714688  \n",
            "                                                                 \n",
            " flatten (Flatten)           (None, 25088)             0         \n",
            "                                                                 \n",
            " dense (Dense)               (None, 512)               12845568  \n",
            "                                                                 \n",
            " dropout (Dropout)           (None, 512)               0         \n",
            "                                                                 \n",
            " dense_1 (Dense)             (None, 256)               131328    \n",
            "                                                                 \n",
            " dropout_1 (Dropout)         (None, 256)               0         \n",
            "                                                                 \n",
            " dense_2 (Dense)             (None, 1)                 257       \n",
            "                                                                 \n",
            "=================================================================\n",
            "Total params: 27691841 (105.64 MB)\n",
            "Trainable params: 12977153 (49.50 MB)\n",
            "Non-trainable params: 14714688 (56.13 MB)\n",
            "_________________________________________________________________\n"
          ]
        }
      ],
      "source": [
        "from tensorflow.keras.applications import VGG16\n",
        "\n",
        "# Load pre-trained VGG16 model without top layers\n",
        "base_model = VGG16(weights='imagenet', include_top=False, input_shape=(224, 224, 3))\n",
        "\n",
        "# Freeze the base model\n",
        "base_model.trainable = False\n",
        "\n",
        "# Create a Sequential model\n",
        "model = Sequential()\n",
        "\n",
        "# Add the VGG16 base model\n",
        "model.add(base_model)\n",
        "\n",
        "# Add Flatten layer\n",
        "model.add(Flatten())\n",
        "\n",
        "# Add Dense layers with Dropout for preventing overfitting\n",
        "model.add(Dense(512, activation='relu'))\n",
        "model.add(Dropout(0.5))\n",
        "model.add(Dense(256, activation='relu'))\n",
        "model.add(Dropout(0.3))\n",
        "model.add(Dense(1, activation='sigmoid'))\n",
        "\n",
        "# Compile the model\n",
        "model.compile(optimizer='adam', loss='binary_crossentropy', metrics=['accuracy'])\n",
        "\n",
        "# Print model summary\n",
        "model.summary()\n"
      ]
    },
    {
      "cell_type": "code",
      "execution_count": 9,
      "metadata": {
        "id": "0gUZYylYHRtd"
      },
      "outputs": [],
      "source": [
        "# Specify the path where you want to create the directory and file\n",
        "checkpoint_path = '/content/drive/MyDrive/Colab Notebooks/Dataset/vgg19_checkpoints'\n",
        "os.makedirs(checkpoint_path, exist_ok=True)"
      ]
    },
    {
      "cell_type": "code",
      "execution_count": 10,
      "metadata": {
        "id": "7XWsrxJPHZlE"
      },
      "outputs": [],
      "source": [
        "# Define callbacks for model saving and logging\n",
        "checkpoint_callback = ModelCheckpoint(\n",
        "    filepath=os.path.join(checkpoint_path, 'model_{epoch:02d}.h5'),\n",
        "    save_weights_only=False,\n",
        "    monitor='val_loss',\n",
        "    save_best_only=True,\n",
        "    verbose=1\n",
        ")\n",
        "\n",
        "early_stopping_callback = EarlyStopping(\n",
        "    monitor='val_loss',\n",
        "    patience=15,\n",
        "    restore_best_weights=True,\n",
        "    verbose=1\n",
        ")\n"
      ]
    },
    {
      "cell_type": "code",
      "execution_count": null,
      "metadata": {
        "colab": {
          "base_uri": "https://localhost:8080/"
        },
        "id": "cYIVg5sRHmFw",
        "outputId": "1b4739c2-e6cb-47f6-da77-4e7e7f33cebf"
      },
      "outputs": [
        {
          "metadata": {
            "tags": null
          },
          "name": "stdout",
          "output_type": "stream",
          "text": [
            "Epoch 1/50\n",
            "30/30 [==============================] - ETA: 0s - loss: 10.9228 - accuracy: 0.6652 \n",
            "Epoch 1: val_loss improved from inf to 0.49606, saving model to /content/drive/MyDrive/Colab Notebooks/Dataset/vgg19_checkpoints/model_01.h5\n"
          ]
        },
        {
          "metadata": {
            "tags": null
          },
          "name": "stderr",
          "output_type": "stream",
          "text": [
            "/usr/local/lib/python3.10/dist-packages/keras/src/engine/training.py:3103: UserWarning: You are saving your model as an HDF5 file via `model.save()`. This file format is considered legacy. We recommend using instead the native Keras format, e.g. `model.save('my_model.keras')`.\n",
            "  saving_api.save_model(\n"
          ]
        },
        {
          "output_type": "stream",
          "name": "stdout",
          "text": [
            "30/30 [==============================] - 696s 23s/step - loss: 10.9228 - accuracy: 0.6652 - val_loss: 0.4961 - val_accuracy: 0.9531\n",
            "Epoch 2/50\n",
            "30/30 [==============================] - ETA: 0s - loss: 1.5393 - accuracy: 0.9010 \n",
            "Epoch 2: val_loss did not improve from 0.49606\n",
            "30/30 [==============================] - 670s 22s/step - loss: 1.5393 - accuracy: 0.9010 - val_loss: 0.7273 - val_accuracy: 0.9479\n",
            "Epoch 3/50\n",
            "30/30 [==============================] - ETA: 0s - loss: 0.9661 - accuracy: 0.9193 \n",
            "Epoch 3: val_loss improved from 0.49606 to 0.32120, saving model to /content/drive/MyDrive/Colab Notebooks/Dataset/vgg19_checkpoints/model_03.h5\n",
            "30/30 [==============================] - 706s 24s/step - loss: 0.9661 - accuracy: 0.9193 - val_loss: 0.3212 - val_accuracy: 0.9792\n",
            "Epoch 4/50\n",
            "30/30 [==============================] - ETA: 0s - loss: 0.6835 - accuracy: 0.9376 \n",
            "Epoch 4: val_loss improved from 0.32120 to 0.04597, saving model to /content/drive/MyDrive/Colab Notebooks/Dataset/vgg19_checkpoints/model_04.h5\n",
            "30/30 [==============================] - 689s 23s/step - loss: 0.6835 - accuracy: 0.9376 - val_loss: 0.0460 - val_accuracy: 0.9844\n",
            "Epoch 5/50\n",
            "30/30 [==============================] - ETA: 0s - loss: 0.3928 - accuracy: 0.9505 \n",
            "Epoch 5: val_loss did not improve from 0.04597\n",
            "30/30 [==============================] - 692s 23s/step - loss: 0.3928 - accuracy: 0.9505 - val_loss: 0.0595 - val_accuracy: 0.9896\n",
            "Epoch 6/50\n",
            "30/30 [==============================] - ETA: 0s - loss: 0.3994 - accuracy: 0.9516 \n",
            "Epoch 6: val_loss improved from 0.04597 to 0.02762, saving model to /content/drive/MyDrive/Colab Notebooks/Dataset/vgg19_checkpoints/model_06.h5\n",
            "30/30 [==============================] - 649s 22s/step - loss: 0.3994 - accuracy: 0.9516 - val_loss: 0.0276 - val_accuracy: 0.9896\n",
            "Epoch 7/50\n",
            "30/30 [==============================] - ETA: 0s - loss: 0.2136 - accuracy: 0.9656 \n",
            "Epoch 7: val_loss did not improve from 0.02762\n",
            "30/30 [==============================] - 692s 23s/step - loss: 0.2136 - accuracy: 0.9656 - val_loss: 0.0761 - val_accuracy: 0.9896\n",
            "Epoch 8/50\n",
            "30/30 [==============================] - ETA: 0s - loss: 0.1674 - accuracy: 0.9677 \n",
            "Epoch 8: val_loss improved from 0.02762 to 0.01516, saving model to /content/drive/MyDrive/Colab Notebooks/Dataset/vgg19_checkpoints/model_08.h5\n",
            "30/30 [==============================] - 685s 23s/step - loss: 0.1674 - accuracy: 0.9677 - val_loss: 0.0152 - val_accuracy: 0.9896\n",
            "Epoch 9/50\n",
            "30/30 [==============================] - ETA: 0s - loss: 0.0981 - accuracy: 0.9709 \n",
            "Epoch 9: val_loss did not improve from 0.01516\n",
            "30/30 [==============================] - 656s 22s/step - loss: 0.0981 - accuracy: 0.9709 - val_loss: 0.0964 - val_accuracy: 0.9844\n",
            "Epoch 10/50\n",
            "30/30 [==============================] - ETA: 0s - loss: 0.5303 - accuracy: 0.9429 \n",
            "Epoch 10: val_loss did not improve from 0.01516\n",
            "30/30 [==============================] - 702s 24s/step - loss: 0.5303 - accuracy: 0.9429 - val_loss: 0.0332 - val_accuracy: 0.9844\n",
            "Epoch 11/50\n",
            "30/30 [==============================] - ETA: 0s - loss: 0.4960 - accuracy: 0.9397 \n",
            "Epoch 11: val_loss did not improve from 0.01516\n",
            "30/30 [==============================] - 682s 23s/step - loss: 0.4960 - accuracy: 0.9397 - val_loss: 0.2044 - val_accuracy: 0.9583\n",
            "Epoch 12/50\n",
            "30/30 [==============================] - ETA: 0s - loss: 0.2621 - accuracy: 0.9656 \n",
            "Epoch 12: val_loss improved from 0.01516 to 0.00368, saving model to /content/drive/MyDrive/Colab Notebooks/Dataset/vgg19_checkpoints/model_12.h5\n",
            "30/30 [==============================] - 686s 23s/step - loss: 0.2621 - accuracy: 0.9656 - val_loss: 0.0037 - val_accuracy: 1.0000\n",
            "Epoch 13/50\n",
            "30/30 [==============================] - ETA: 0s - loss: 0.4034 - accuracy: 0.9419 \n",
            "Epoch 13: val_loss did not improve from 0.00368\n",
            "30/30 [==============================] - 722s 24s/step - loss: 0.4034 - accuracy: 0.9419 - val_loss: 0.0235 - val_accuracy: 0.9896\n",
            "Epoch 14/50\n",
            "30/30 [==============================] - ETA: 0s - loss: 0.2423 - accuracy: 0.9634 \n",
            "Epoch 14: val_loss did not improve from 0.00368\n",
            "30/30 [==============================] - 682s 23s/step - loss: 0.2423 - accuracy: 0.9634 - val_loss: 0.0165 - val_accuracy: 0.9948\n",
            "Epoch 15/50\n",
            "30/30 [==============================] - ETA: 0s - loss: 0.1063 - accuracy: 0.9709 \n",
            "Epoch 15: val_loss did not improve from 0.00368\n",
            "30/30 [==============================] - 684s 23s/step - loss: 0.1063 - accuracy: 0.9709 - val_loss: 0.0041 - val_accuracy: 1.0000\n",
            "Epoch 16/50\n",
            "30/30 [==============================] - ETA: 0s - loss: 0.1136 - accuracy: 0.9752 \n",
            "Epoch 16: val_loss did not improve from 0.00368\n",
            "30/30 [==============================] - 685s 23s/step - loss: 0.1136 - accuracy: 0.9752 - val_loss: 0.0334 - val_accuracy: 0.9844\n",
            "Epoch 17/50\n",
            "30/30 [==============================] - ETA: 0s - loss: 0.0459 - accuracy: 0.9839 \n",
            "Epoch 17: val_loss improved from 0.00368 to 0.00061, saving model to /content/drive/MyDrive/Colab Notebooks/Dataset/vgg19_checkpoints/model_17.h5\n",
            "30/30 [==============================] - 688s 23s/step - loss: 0.0459 - accuracy: 0.9839 - val_loss: 6.1179e-04 - val_accuracy: 1.0000\n",
            "Epoch 18/50\n",
            "30/30 [==============================] - ETA: 0s - loss: 0.0482 - accuracy: 0.9849 \n",
            "Epoch 18: val_loss did not improve from 0.00061\n",
            "30/30 [==============================] - 682s 23s/step - loss: 0.0482 - accuracy: 0.9849 - val_loss: 0.0077 - val_accuracy: 0.9948\n",
            "Epoch 19/50\n",
            "30/30 [==============================] - ETA: 0s - loss: 0.0310 - accuracy: 0.9871 \n",
            "Epoch 19: val_loss improved from 0.00061 to 0.00028, saving model to /content/drive/MyDrive/Colab Notebooks/Dataset/vgg19_checkpoints/model_19.h5\n",
            "30/30 [==============================] - 660s 22s/step - loss: 0.0310 - accuracy: 0.9871 - val_loss: 2.7737e-04 - val_accuracy: 1.0000\n",
            "Epoch 20/50\n",
            "30/30 [==============================] - ETA: 0s - loss: 0.0273 - accuracy: 0.9882 \n",
            "Epoch 20: val_loss improved from 0.00028 to 0.00024, saving model to /content/drive/MyDrive/Colab Notebooks/Dataset/vgg19_checkpoints/model_20.h5\n",
            "30/30 [==============================] - 695s 23s/step - loss: 0.0273 - accuracy: 0.9882 - val_loss: 2.3855e-04 - val_accuracy: 1.0000\n",
            "Epoch 21/50\n",
            "30/30 [==============================] - ETA: 0s - loss: 0.0343 - accuracy: 0.9871 \n",
            "Epoch 21: val_loss did not improve from 0.00024\n",
            "30/30 [==============================] - 695s 23s/step - loss: 0.0343 - accuracy: 0.9871 - val_loss: 2.4354e-04 - val_accuracy: 1.0000\n",
            "Epoch 22/50\n",
            "30/30 [==============================] - ETA: 0s - loss: 0.0324 - accuracy: 0.9946 \n",
            "Epoch 22: val_loss did not improve from 0.00024\n",
            "30/30 [==============================] - 683s 23s/step - loss: 0.0324 - accuracy: 0.9946 - val_loss: 7.4317e-04 - val_accuracy: 1.0000\n",
            "Epoch 23/50\n",
            "30/30 [==============================] - ETA: 0s - loss: 0.0180 - accuracy: 0.9957 \n",
            "Epoch 23: val_loss did not improve from 0.00024\n",
            "30/30 [==============================] - 654s 22s/step - loss: 0.0180 - accuracy: 0.9957 - val_loss: 9.1180e-04 - val_accuracy: 1.0000\n",
            "Epoch 24/50\n",
            "30/30 [==============================] - ETA: 0s - loss: 0.0545 - accuracy: 0.9882 \n",
            "Epoch 24: val_loss did not improve from 0.00024\n",
            "30/30 [==============================] - 652s 22s/step - loss: 0.0545 - accuracy: 0.9882 - val_loss: 0.0028 - val_accuracy: 1.0000\n",
            "Epoch 25/50\n",
            "30/30 [==============================] - ETA: 0s - loss: 0.0269 - accuracy: 0.9892 \n",
            "Epoch 25: val_loss did not improve from 0.00024\n",
            "30/30 [==============================] - 686s 23s/step - loss: 0.0269 - accuracy: 0.9892 - val_loss: 4.2882e-04 - val_accuracy: 1.0000\n",
            "Epoch 26/50\n",
            "30/30 [==============================] - ETA: 0s - loss: 0.0546 - accuracy: 0.9849 \n",
            "Epoch 26: val_loss did not improve from 0.00024\n",
            "30/30 [==============================] - 683s 23s/step - loss: 0.0546 - accuracy: 0.9849 - val_loss: 0.0076 - val_accuracy: 0.9948\n",
            "Epoch 27/50\n",
            "30/30 [==============================] - ETA: 0s - loss: 0.0427 - accuracy: 0.9882 \n",
            "Epoch 27: val_loss did not improve from 0.00024\n",
            "30/30 [==============================] - 684s 23s/step - loss: 0.0427 - accuracy: 0.9882 - val_loss: 3.5248e-04 - val_accuracy: 1.0000\n",
            "Epoch 28/50\n",
            "30/30 [==============================] - ETA: 0s - loss: 0.0149 - accuracy: 0.9925 \n",
            "Epoch 28: val_loss improved from 0.00024 to 0.00023, saving model to /content/drive/MyDrive/Colab Notebooks/Dataset/vgg19_checkpoints/model_28.h5\n",
            "30/30 [==============================] - 685s 23s/step - loss: 0.0149 - accuracy: 0.9925 - val_loss: 2.3044e-04 - val_accuracy: 1.0000\n",
            "Epoch 29/50\n",
            "30/30 [==============================] - ETA: 0s - loss: 0.0571 - accuracy: 0.9828 \n",
            "Epoch 29: val_loss did not improve from 0.00023\n",
            "30/30 [==============================] - 667s 22s/step - loss: 0.0571 - accuracy: 0.9828 - val_loss: 0.0085 - val_accuracy: 0.9948\n",
            "Epoch 30/50\n",
            "30/30 [==============================] - ETA: 0s - loss: 0.0383 - accuracy: 0.9860 \n",
            "Epoch 30: val_loss did not improve from 0.00023\n",
            "30/30 [==============================] - 686s 23s/step - loss: 0.0383 - accuracy: 0.9860 - val_loss: 0.0174 - val_accuracy: 0.9844\n",
            "Epoch 31/50\n",
            "30/30 [==============================] - ETA: 0s - loss: 0.0554 - accuracy: 0.9860 \n",
            "Epoch 31: val_loss improved from 0.00023 to 0.00007, saving model to /content/drive/MyDrive/Colab Notebooks/Dataset/vgg19_checkpoints/model_31.h5\n",
            "30/30 [==============================] - 688s 23s/step - loss: 0.0554 - accuracy: 0.9860 - val_loss: 7.0646e-05 - val_accuracy: 1.0000\n",
            "Epoch 32/50\n",
            "30/30 [==============================] - ETA: 0s - loss: 0.0349 - accuracy: 0.9860 \n",
            "Epoch 32: val_loss did not improve from 0.00007\n",
            "30/30 [==============================] - 695s 23s/step - loss: 0.0349 - accuracy: 0.9860 - val_loss: 0.0012 - val_accuracy: 1.0000\n",
            "Epoch 33/50\n",
            "30/30 [==============================] - ETA: 0s - loss: 0.0492 - accuracy: 0.9882 \n",
            "Epoch 33: val_loss did not improve from 0.00007\n",
            "30/30 [==============================] - 690s 23s/step - loss: 0.0492 - accuracy: 0.9882 - val_loss: 0.0112 - val_accuracy: 0.9948\n",
            "Epoch 34/50\n",
            "30/30 [==============================] - ETA: 0s - loss: 0.1076 - accuracy: 0.9795 \n",
            "Epoch 34: val_loss did not improve from 0.00007\n",
            "30/30 [==============================] - 688s 23s/step - loss: 0.1076 - accuracy: 0.9795 - val_loss: 0.0033 - val_accuracy: 1.0000\n",
            "Epoch 35/50\n",
            "17/30 [================>.............] - ETA: 4:01 - loss: 0.0577 - accuracy: 0.9853"
          ]
        }
      ],
      "source": [
        "# Train the model\n",
        "history = model.fit(\n",
        "    train_generator,\n",
        "    steps_per_epoch=train_generator.n // train_generator.batch_size,\n",
        "    epochs=50,\n",
        "    validation_data=val_generator,\n",
        "    validation_steps=val_generator.n // val_generator.batch_size,\n",
        "    callbacks=[checkpoint_callback, early_stopping_callback]\n",
        ")\n"
      ]
    },
    {
      "cell_type": "code",
      "source": [
        "latest_checkpoint = '/content/drive/MyDrive/Colab Notebooks/Dataset/vgg19_checkpoints/model_31.h5'\n",
        "\n",
        "model.load_weights(latest_checkpoint)"
      ],
      "metadata": {
        "id": "QLRTZ3lYr_Wt"
      },
      "execution_count": 11,
      "outputs": []
    },
    {
      "cell_type": "code",
      "source": [
        "# Resume training from the fifth epoch\n",
        "history = model.fit(\n",
        "    train_generator,\n",
        "    steps_per_epoch=train_generator.n // train_generator.batch_size,\n",
        "    epochs=50,  # You can adjust the number of epochs as needed\n",
        "    initial_epoch=31,  # Start from the fifth epoch\n",
        "    validation_data=val_generator,\n",
        "    validation_steps=val_generator.n // val_generator.batch_size,\n",
        "    callbacks=[checkpoint_callback, early_stopping_callback]\n",
        ")\n"
      ],
      "metadata": {
        "colab": {
          "base_uri": "https://localhost:8080/"
        },
        "id": "fd6sCH8csv-u",
        "outputId": "ad16591c-b214-4cb8-df5f-d1253b4694fd"
      },
      "execution_count": 12,
      "outputs": [
        {
          "output_type": "stream",
          "name": "stdout",
          "text": [
            "Epoch 32/50\n",
            "30/30 [==============================] - ETA: 0s - loss: 0.2179 - accuracy: 0.9763 \n",
            "Epoch 32: val_loss improved from inf to 0.03618, saving model to /content/drive/MyDrive/Colab Notebooks/Dataset/vgg19_checkpoints/model_32.h5\n"
          ]
        },
        {
          "output_type": "stream",
          "name": "stderr",
          "text": [
            "/usr/local/lib/python3.10/dist-packages/keras/src/engine/training.py:3103: UserWarning: You are saving your model as an HDF5 file via `model.save()`. This file format is considered legacy. We recommend using instead the native Keras format, e.g. `model.save('my_model.keras')`.\n",
            "  saving_api.save_model(\n"
          ]
        },
        {
          "output_type": "stream",
          "name": "stdout",
          "text": [
            "\b\b\b\b\b\b\b\b\b\b\b\b\b\b\b\b\b\b\b\b\b\b\b\b\b\b\b\b\b\b\b\b\b\b\b\b\b\b\b\b\b\b\b\b\b\b\b\b\b\b\b\b\b\b\b\b\b\b\b\b\b\b\b\b\b\b\b\b\b\b\b\b\b\b\b\b\b\b\b\b\b\b\r30/30 [==============================] - 692s 23s/step - loss: 0.2179 - accuracy: 0.9763 - val_loss: 0.0362 - val_accuracy: 0.9948\n",
            "Epoch 33/50\n",
            "30/30 [==============================] - ETA: 0s - loss: 0.2826 - accuracy: 0.9752 \n",
            "Epoch 33: val_loss improved from 0.03618 to 0.00490, saving model to /content/drive/MyDrive/Colab Notebooks/Dataset/vgg19_checkpoints/model_33.h5\n",
            "30/30 [==============================] - 681s 23s/step - loss: 0.2826 - accuracy: 0.9752 - val_loss: 0.0049 - val_accuracy: 0.9948\n",
            "Epoch 34/50\n",
            "30/30 [==============================] - ETA: 0s - loss: 0.2122 - accuracy: 0.9731 \n",
            "Epoch 34: val_loss improved from 0.00490 to 0.00009, saving model to /content/drive/MyDrive/Colab Notebooks/Dataset/vgg19_checkpoints/model_34.h5\n",
            "30/30 [==============================] - 673s 23s/step - loss: 0.2122 - accuracy: 0.9731 - val_loss: 9.4488e-05 - val_accuracy: 1.0000\n",
            "Epoch 35/50\n",
            "30/30 [==============================] - ETA: 0s - loss: 0.1160 - accuracy: 0.9785 \n",
            "Epoch 35: val_loss did not improve from 0.00009\n",
            "30/30 [==============================] - 644s 22s/step - loss: 0.1160 - accuracy: 0.9785 - val_loss: 2.2492e-04 - val_accuracy: 1.0000\n",
            "Epoch 36/50\n",
            "30/30 [==============================] - ETA: 0s - loss: 0.2637 - accuracy: 0.9688 \n",
            "Epoch 36: val_loss did not improve from 0.00009\n",
            "30/30 [==============================] - 679s 23s/step - loss: 0.2637 - accuracy: 0.9688 - val_loss: 0.0449 - val_accuracy: 0.9844\n",
            "Epoch 37/50\n",
            "30/30 [==============================] - ETA: 0s - loss: 0.2481 - accuracy: 0.9666 \n",
            "Epoch 37: val_loss did not improve from 0.00009\n",
            "30/30 [==============================] - 646s 22s/step - loss: 0.2481 - accuracy: 0.9666 - val_loss: 1.9794e-04 - val_accuracy: 1.0000\n",
            "Epoch 38/50\n",
            "30/30 [==============================] - ETA: 0s - loss: 0.1657 - accuracy: 0.9688 \n",
            "Epoch 38: val_loss did not improve from 0.00009\n",
            "30/30 [==============================] - 673s 23s/step - loss: 0.1657 - accuracy: 0.9688 - val_loss: 0.0635 - val_accuracy: 0.9792\n",
            "Epoch 39/50\n",
            "30/30 [==============================] - ETA: 0s - loss: 0.1481 - accuracy: 0.9688 \n",
            "Epoch 39: val_loss did not improve from 0.00009\n",
            "30/30 [==============================] - 637s 21s/step - loss: 0.1481 - accuracy: 0.9688 - val_loss: 0.0048 - val_accuracy: 0.9948\n",
            "Epoch 40/50\n",
            "30/30 [==============================] - ETA: 0s - loss: 0.1329 - accuracy: 0.9656 \n",
            "Epoch 40: val_loss did not improve from 0.00009\n",
            "30/30 [==============================] - 671s 23s/step - loss: 0.1329 - accuracy: 0.9656 - val_loss: 0.0228 - val_accuracy: 0.9896\n",
            "Epoch 41/50\n",
            "30/30 [==============================] - ETA: 0s - loss: 0.1821 - accuracy: 0.9656 \n",
            "Epoch 41: val_loss did not improve from 0.00009\n",
            "30/30 [==============================] - 695s 23s/step - loss: 0.1821 - accuracy: 0.9656 - val_loss: 0.0022 - val_accuracy: 1.0000\n",
            "Epoch 42/50\n",
            "30/30 [==============================] - ETA: 0s - loss: 0.1635 - accuracy: 0.9602 \n",
            "Epoch 42: val_loss did not improve from 0.00009\n",
            "30/30 [==============================] - 671s 22s/step - loss: 0.1635 - accuracy: 0.9602 - val_loss: 0.0074 - val_accuracy: 1.0000\n",
            "Epoch 43/50\n",
            "30/30 [==============================] - ETA: 0s - loss: 0.1000 - accuracy: 0.9688 \n",
            "Epoch 43: val_loss did not improve from 0.00009\n",
            "30/30 [==============================] - 670s 22s/step - loss: 0.1000 - accuracy: 0.9688 - val_loss: 0.0512 - val_accuracy: 0.9896\n",
            "Epoch 44/50\n",
            "30/30 [==============================] - ETA: 0s - loss: 0.1104 - accuracy: 0.9763 \n",
            "Epoch 44: val_loss did not improve from 0.00009\n",
            "30/30 [==============================] - 670s 22s/step - loss: 0.1104 - accuracy: 0.9763 - val_loss: 0.0043 - val_accuracy: 1.0000\n",
            "Epoch 45/50\n",
            "30/30 [==============================] - ETA: 0s - loss: 0.0483 - accuracy: 0.9828 \n",
            "Epoch 45: val_loss improved from 0.00009 to 0.00008, saving model to /content/drive/MyDrive/Colab Notebooks/Dataset/vgg19_checkpoints/model_45.h5\n",
            "30/30 [==============================] - 671s 22s/step - loss: 0.0483 - accuracy: 0.9828 - val_loss: 7.6281e-05 - val_accuracy: 1.0000\n",
            "Epoch 46/50\n",
            "30/30 [==============================] - ETA: 0s - loss: 0.1248 - accuracy: 0.9763 \n",
            "Epoch 46: val_loss did not improve from 0.00008\n",
            "30/30 [==============================] - 673s 22s/step - loss: 0.1248 - accuracy: 0.9763 - val_loss: 0.0210 - val_accuracy: 0.9896\n",
            "Epoch 47/50\n",
            "30/30 [==============================] - ETA: 0s - loss: 0.0970 - accuracy: 0.9699 \n",
            "Epoch 47: val_loss did not improve from 0.00008\n",
            "30/30 [==============================] - 668s 22s/step - loss: 0.0970 - accuracy: 0.9699 - val_loss: 0.0097 - val_accuracy: 0.9948\n",
            "Epoch 48/50\n",
            "30/30 [==============================] - ETA: 0s - loss: 0.1590 - accuracy: 0.9623 \n",
            "Epoch 48: val_loss did not improve from 0.00008\n",
            "30/30 [==============================] - 668s 22s/step - loss: 0.1590 - accuracy: 0.9623 - val_loss: 0.0034 - val_accuracy: 1.0000\n",
            "Epoch 49/50\n",
            "30/30 [==============================] - ETA: 0s - loss: 0.0576 - accuracy: 0.9774 \n",
            "Epoch 49: val_loss did not improve from 0.00008\n",
            "30/30 [==============================] - 668s 22s/step - loss: 0.0576 - accuracy: 0.9774 - val_loss: 0.0124 - val_accuracy: 0.9896\n",
            "Epoch 50/50\n",
            "30/30 [==============================] - ETA: 0s - loss: 0.1226 - accuracy: 0.9742 \n",
            "Epoch 50: val_loss improved from 0.00008 to 0.00006, saving model to /content/drive/MyDrive/Colab Notebooks/Dataset/vgg19_checkpoints/model_50.h5\n",
            "30/30 [==============================] - 637s 22s/step - loss: 0.1226 - accuracy: 0.9742 - val_loss: 5.7648e-05 - val_accuracy: 1.0000\n"
          ]
        }
      ]
    },
    {
      "cell_type": "code",
      "execution_count": 13,
      "metadata": {
        "id": "_wjyaulzHwz4"
      },
      "outputs": [],
      "source": [
        "# Save the model to Google Drive\n",
        "model.save('/content/drive/MyDrive/Colab Notebooks/Dataset/Trained_model/model_vgg19_gen.h5')"
      ]
    },
    {
      "cell_type": "code",
      "execution_count": 14,
      "metadata": {
        "colab": {
          "base_uri": "https://localhost:8080/"
        },
        "id": "-JNS8nGgH8rL",
        "outputId": "f05d3b9a-a0a2-4427-8605-e5d6a520722a"
      },
      "outputs": [
        {
          "output_type": "stream",
          "name": "stdout",
          "text": [
            "6/6 [==============================] - 114s 17s/step - loss: 1.8399e-06 - accuracy: 1.0000\n",
            "Test Accuracy: 1.0\n"
          ]
        }
      ],
      "source": [
        "# Evaluate the model on test data\n",
        "test_loss, test_acc = model.evaluate(test_generator)\n",
        "print(\"Test Accuracy:\", test_acc)\n"
      ]
    },
    {
      "cell_type": "code",
      "execution_count": 15,
      "metadata": {
        "colab": {
          "base_uri": "https://localhost:8080/",
          "height": 445
        },
        "id": "dxP4tOXXH_Wb",
        "outputId": "59a7baf0-460b-40cf-f026-7d8e1d35692b"
      },
      "outputs": [
        {
          "output_type": "display_data",
          "data": {
            "text/plain": [
              "<Figure size 800x500 with 1 Axes>"
            ],
            "image/png": "[encoded data removed]"
          },
          "metadata": {}
        }
      ],
      "source": [
        "# Plot training and validation accuracy\n",
        "acc = history.history['accuracy']\n",
        "val_acc = history.history['val_accuracy']\n",
        "epochs = range(len(acc))\n",
        "plt.figure(figsize=(8, 5))\n",
        "plt.plot(epochs, acc, 'r', label=\"Training Accuracy\")\n",
        "plt.plot(epochs, val_acc, 'b', label=\"Validation Accuracy\")\n",
        "plt.legend(loc='upper left')\n",
        "plt.show()"
      ]
    },
    {
      "cell_type": "code",
      "execution_count": 16,
      "metadata": {
        "id": "o-qD-l8vDlqV",
        "colab": {
          "base_uri": "https://localhost:8080/",
          "height": 445
        },
        "outputId": "1068e1e9-87af-4147-ccf3-efd7da20f950"
      },
      "outputs": [
        {
          "output_type": "display_data",
          "data": {
            "text/plain": [
              "<Figure size 800x500 with 1 Axes>"
            ],
            "image/png": "[encoded data removed]"
          },
          "metadata": {}
        }
      ],
      "source": [
        "# Plot training and validation loss\n",
        "loss = history.history['loss']\n",
        "val_loss = history.history['val_loss']\n",
        "epochs = range(len(loss))\n",
        "plt.figure(figsize=(8, 5))\n",
        "plt.plot(epochs, loss, 'r', label=\"Training loss\")\n",
        "plt.plot(epochs, val_loss, 'b', label=\"Validation loss\")\n",
        "plt.legend(loc='upper left')\n",
        "plt.show()"
      ]
    },
    {
      "cell_type": "code",
      "execution_count": null,
      "metadata": {
        "colab": {
          "base_uri": "https://localhost:8080/"
        },
        "id": "YjHXBkz_Kgpl",
        "outputId": "dc39b484-efb9-464c-9389-4b93aa3a196b"
      },
      "outputs": [
        {
          "name": "stdout",
          "output_type": "stream",
          "text": [
            "1/1 [==============================] - 1s 624ms/step\n",
            "Predicted Labels: [1. 0. 0. 0. 0. 1. 1. 0. 1. 0. 0. 1. 0. 0. 1. 1. 1. 1. 0. 1. 0. 1. 1. 1.\n",
            " 1. 0. 0. 1. 1. 1. 0. 1.]\n",
            "True Labels: [1. 0. 0. 0. 0. 1. 1. 0. 1. 0. 0. 1. 0. 0. 1. 1. 1. 0. 0. 1. 0. 1. 1. 1.\n",
            " 1. 0. 0. 1. 1. 1. 0. 1.]\n"
          ]
        }
      ],
      "source": [
        "import numpy as np\n",
        "\n",
        "# Assuming you have trained your model and defined the test_generator\n",
        "\n",
        "# Get one batch of test data\n",
        "test_data, test_labels = test_generator.next()\n",
        "\n",
        "# Predict the labels for the test data\n",
        "predictions = model.predict(test_data)\n",
        "\n",
        "# Convert the predicted probabilities to class labels (0 or 1)\n",
        "predicted_labels = np.round(predictions)\n",
        "\n",
        "# Print the predicted labels and the true labels\n",
        "print(\"Predicted Labels:\", predicted_labels.flatten())\n",
        "print(\"True Labels:\", test_labels.flatten())\n",
        "\n"
      ]
    },
    {
      "cell_type": "code",
      "execution_count": null,
      "metadata": {
        "colab": {
          "base_uri": "https://localhost:8080/",
          "height": 463
        },
        "id": "Lraf4yTFIQDJ",
        "outputId": "ab403e4b-1c3d-46a2-c68f-cbba979e3bd5"
      },
      "outputs": [
        {
          "name": "stdout",
          "output_type": "stream",
          "text": [
            "1/1 [==============================] - 0s 75ms/step\n"
          ]
        },
        {
          "name": "stderr",
          "output_type": "stream",
          "text": [
            "WARNING:matplotlib.image:Clipping input data to the valid range for imshow with RGB data ([0..1] for floats or [0..255] for integers).\n"
          ]
        },
        {
          "data": {
            "image/png": "[encoded data removed]",
            "text/plain": [
              "<Figure size 640x480 with 1 Axes>"
            ]
          },
          "metadata": {},
          "output_type": "display_data"
        }
      ],
      "source": [
        "import numpy as np\n",
        "import matplotlib.pyplot as plt\n",
        "import warnings\n",
        "warnings.filterwarnings(\"ignore\")\n",
        "warnings.filterwarnings(\"ignore\", category=DeprecationWarning)\n",
        "\n",
        "\n",
        "# Assuming you have trained your model and defined the test_generator\n",
        "\n",
        "# Get one batch of test data\n",
        "test_data, test_labels = test_generator.next()\n",
        "\n",
        "# Get a random index within the batch size\n",
        "random_index = np.random.randint(0, test_data.shape[0])\n",
        "\n",
        "# Get the random image and its corresponding label\n",
        "random_image = test_data[random_index]\n",
        "true_label = test_labels[random_index]\n",
        "\n",
        "# Expand the dimensions of the image to match the input shape expected by the model\n",
        "random_image = np.expand_dims(random_image, axis=0)\n",
        "\n",
        "# Predict the label for the random image\n",
        "predicted_label = model.predict(random_image)\n",
        "predicted_label = np.round(predicted_label)\n",
        "\n",
        "# Convert label to human-readable format (0: No cancer, 1: Yes cancer)\n",
        "labels_dict = {0: \"No cancer\", 1: \"Yes cancer\"}\n",
        "predicted_label_str = labels_dict[int(predicted_label)]\n",
        "true_label_str = labels_dict[int(true_label)]\n",
        "\n",
        "# Display the random image\n",
        "plt.imshow(random_image.squeeze(),  cmap='gray')\n",
        "plt.title(f\"Predicted Label: {predicted_label_str}, True Label: {true_label_str}\")\n",
        "plt.axis('off')\n",
        "plt.show()\n"
      ]
    },
    {
      "cell_type": "code",
      "execution_count": null,
      "metadata": {
        "id": "3t0esk8MWcol"
      },
      "outputs": [],
      "source": [
        "from tensorflow.keras.models import load_model\n",
        "# Load the model\n",
        "loaded_model = load_model('/content/drive/MyDrive/Colab Notebooks/Dataset/Trained_model/model_vgg16_gen.h5')"
      ]
    },
    {
      "cell_type": "code",
      "execution_count": null,
      "metadata": {
        "colab": {
          "base_uri": "https://localhost:8080/",
          "height": 465
        },
        "id": "6KeCMCddIkK9",
        "outputId": "c7116483-8a8c-4868-b9c6-34cf9b5f06f1"
      },
      "outputs": [
        {
          "name": "stdout",
          "output_type": "stream",
          "text": [
            "1/1 [==============================] - 1s 1s/step\n"
          ]
        },
        {
          "name": "stderr",
          "output_type": "stream",
          "text": [
            "WARNING:matplotlib.image:Clipping input data to the valid range for imshow with RGB data ([0..1] for floats or [0..255] for integers).\n"
          ]
        },
        {
          "data": {
            "image/png": "[encoded data removed]",
            "text/plain": [
              "<Figure size 640x480 with 1 Axes>"
            ]
          },
          "metadata": {},
          "output_type": "display_data"
        }
      ],
      "source": [
        "import numpy as np\n",
        "import matplotlib.pyplot as plt\n",
        "import warnings\n",
        "warnings.filterwarnings(\"ignore\")\n",
        "warnings.filterwarnings(\"ignore\", category=DeprecationWarning)\n",
        "\n",
        "\n",
        "# Assuming you have trained your model and defined the test_generator\n",
        "\n",
        "# Get one batch of test data\n",
        "test_data, test_labels = test_generator.next()\n",
        "\n",
        "# Get a random index within the batch size\n",
        "random_index = np.random.randint(0, test_data.shape[0])\n",
        "\n",
        "# Get the random image and its corresponding label\n",
        "random_image = test_data[random_index]\n",
        "true_label = test_labels[random_index]\n",
        "\n",
        "# Expand the dimensions of the image to match the input shape expected by the model\n",
        "random_image = np.expand_dims(random_image, axis=0)\n",
        "\n",
        "# Predict the label for the random image\n",
        "predicted_label = model.predict(random_image)\n",
        "predicted_label = np.round(predicted_label)\n",
        "\n",
        "# Convert label to human-readable format (0: No cancer, 1: Yes cancer)\n",
        "labels_dict = {0: \"Non cancerous\", 1: \"cancerous\"}\n",
        "predicted_label_str = labels_dict[int(predicted_label)]\n",
        "true_label_str = labels_dict[int(true_label)]\n",
        "\n",
        "# Display the random image\n",
        "plt.imshow(random_image.squeeze(),  cmap='gray')\n",
        "plt.title(f\"Predicted Label: {predicted_label_str}, True Label: {true_label_str}\")\n",
        "plt.axis('off')\n",
        "plt.show()\n"
      ]
    },
    {
      "cell_type": "code",
      "execution_count": null,
      "metadata": {
        "id": "9rENv53KS4u5"
      },
      "outputs": [],
      "source": []
    },
    {
      "cell_type": "code",
      "execution_count": null,
      "metadata": {
        "id": "cBo3q0hQS4sL"
      },
      "outputs": [],
      "source": [
        "from sklearn.metrics import accuracy_score, precision_score, recall_score, f1_score, confusion_matrix\n",
        "import seaborn as sns\n",
        "import matplotlib.pyplot as plt\n",
        "import numpy as np\n",
        "import pandas as pd"
      ]
    },
    {
      "cell_type": "code",
      "execution_count": null,
      "metadata": {
        "colab": {
          "base_uri": "https://localhost:8080/"
        },
        "id": "RhapizxnS4g9",
        "outputId": "c054af35-28c3-4bc3-f438-80342fefe936"
      },
      "outputs": [
        {
          "name": "stdout",
          "output_type": "stream",
          "text": [
            "4/4 [==============================] - 77s 15s/step\n"
          ]
        }
      ],
      "source": [
        "# Predict the labels for the entire test set\n",
        "test_steps_per_epoch = np.math.ceil(test_generator.samples / test_generator.batch_size)\n",
        "predictions = loaded_model.predict(test_generator, steps=test_steps_per_epoch)\n",
        "predicted_labels = np.round(predictions).flatten()\n",
        "true_labels = test_generator.classes"
      ]
    },
    {
      "cell_type": "code",
      "execution_count": null,
      "metadata": {
        "colab": {
          "background_save": true,
          "base_uri": "https://localhost:8080/"
        },
        "id": "cQzOc9cDVcSE",
        "outputId": "1fe6dcce-0633-484e-c361-541c91f709a7"
      },
      "outputs": [
        {
          "name": "stdout",
          "output_type": "stream",
          "text": [
            "26/26 [==============================] - 549s 21s/step\n"
          ]
        }
      ],
      "source": [
        "# Predict the labels for the entire train set\n",
        "train_steps_per_epoch = np.math.ceil(train_generator.samples / train_generator.batch_size)\n",
        "predictions = loaded_model.predict(train_generator, steps=train_steps_per_epoch)\n",
        "predicted_labels = np.round(predictions).flatten()\n",
        "true_labels = train_generator.classes"
      ]
    },
    {
      "cell_type": "code",
      "execution_count": null,
      "metadata": {
        "colab": {
          "base_uri": "https://localhost:8080/"
        },
        "id": "vB_rp2mpTCdE",
        "outputId": "96d18a19-bfc5-4a26-af9e-b8c757511f39"
      },
      "outputs": [
        {
          "name": "stdout",
          "output_type": "stream",
          "text": [
            "Accuracy: 0.52\n",
            "Precision: 0.52\n",
            "Recall: 0.53\n",
            "F1 Score: 0.52\n"
          ]
        }
      ],
      "source": [
        "# Calculate performance metrics\n",
        "accuracy = accuracy_score(true_labels, predicted_labels)\n",
        "precision = precision_score(true_labels, predicted_labels)\n",
        "recall = recall_score(true_labels, predicted_labels)\n",
        "f1 = f1_score(true_labels, predicted_labels)\n",
        "\n",
        "# Print performance metrics\n",
        "print(f\"Accuracy: {accuracy:.2f}\")\n",
        "print(f\"Precision: {precision:.2f}\")\n",
        "print(f\"Recall: {recall:.2f}\")\n",
        "print(f\"F1 Score: {f1:.2f}\")\n",
        "\n",
        "# Create a DataFrame for the metrics\n",
        "metrics = {\n",
        "    'Metric': ['Accuracy', 'Precision', 'Recall', 'F1 Score'],\n",
        "    'Score': [accuracy, precision, recall, f1]\n",
        "}\n"
      ]
    },
    {
      "cell_type": "code",
      "execution_count": null,
      "metadata": {
        "colab": {
          "base_uri": "https://localhost:8080/",
          "height": 175
        },
        "id": "5R10RBxRTUtI",
        "outputId": "f0086e0f-1494-4128-d873-b902d45cfdbc"
      },
      "outputs": [
        {
          "data": {
            "application/vnd.google.colaboratory.intrinsic+json": {
              "summary": "{\n  \"name\": \"metrics_df\",\n  \"rows\": 4,\n  \"fields\": [\n    {\n      \"column\": \"Metric\",\n      \"properties\": {\n        \"dtype\": \"string\",\n        \"num_unique_values\": 4,\n        \"samples\": [\n          \"Precision\",\n          \"F1 Score\",\n          \"Accuracy\"\n        ],\n        \"semantic_type\": \"\",\n        \"description\": \"\"\n      }\n    },\n    {\n      \"column\": \"Score\",\n      \"properties\": {\n        \"dtype\": \"number\",\n        \"std\": 0.009557692240748194,\n        \"min\": 0.5,\n        \"max\": 0.52,\n        \"num_unique_values\": 3,\n        \"samples\": [\n          0.5,\n          0.52,\n          0.5098039215686274\n        ],\n        \"semantic_type\": \"\",\n        \"description\": \"\"\n      }\n    }\n  ]\n}",
              "type": "dataframe",
              "variable_name": "metrics_df"
            },
            "text/html": [
              "\n",
              "  <div id=\"df-a722deb3-7cc1-4497-89a9-dfae53bd069d\" class=\"colab-df-container\">\n",
              "    <div>\n",
              "<style scoped>\n",
              "    .dataframe tbody tr th:only-of-type {\n",
              "        vertical-align: middle;\n",
              "    }\n",
              "\n",
              "    .dataframe tbody tr th {\n",
              "        vertical-align: top;\n",
              "    }\n",
              "\n",
              "    .dataframe thead th {\n",
              "        text-align: right;\n",
              "    }\n",
              "</style>\n",
              "<table border=\"1\" class=\"dataframe\">\n",
              "  <thead>\n",
              "    <tr style=\"text-align: right;\">\n",
              "      <th></th>\n",
              "      <th>Metric</th>\n",
              "      <th>Score</th>\n",
              "    </tr>\n",
              "  </thead>\n",
              "  <tbody>\n",
              "    <tr>\n",
              "      <th>0</th>\n",
              "      <td>Accuracy</td>\n",
              "      <td>0.500000</td>\n",
              "    </tr>\n",
              "    <tr>\n",
              "      <th>1</th>\n",
              "      <td>Precision</td>\n",
              "      <td>0.500000</td>\n",
              "    </tr>\n",
              "    <tr>\n",
              "      <th>2</th>\n",
              "      <td>Recall</td>\n",
              "      <td>0.520000</td>\n",
              "    </tr>\n",
              "    <tr>\n",
              "      <th>3</th>\n",
              "      <td>F1 Score</td>\n",
              "      <td>0.509804</td>\n",
              "    </tr>\n",
              "  </tbody>\n",
              "</table>\n",
              "</div>\n",
              "    <div class=\"colab-df-buttons\">\n",
              "\n",
              "  <div class=\"colab-df-container\">\n",
              "    <button class=\"colab-df-convert\" onclick=\"convertToInteractive('df-a722deb3-7cc1-4497-89a9-dfae53bd069d')\"\n",
              "            title=\"Convert this dataframe to an interactive table.\"\n",
              "            style=\"display:none;\">\n",
              "\n",
              "  <svg xmlns=\"http://www.w3.org/2000/svg\" height=\"24px\" viewBox=\"0 -960 960 960\">\n",
              "    <path d=\"M120-120v-720h720v720H120Zm60-500h600v-160H180v160Zm220 220h160v-160H400v160Zm0 220h160v-160H400v160ZM180-400h160v-160H180v160Zm440 0h160v-160H620v160ZM180-180h160v-160H180v160Zm440 0h160v-160H620v160Z\"/>\n",
              "  </svg>\n",
              "    </button>\n",
              "\n",
              "  <style>\n",
              "    .colab-df-container {\n",
              "      display:flex;\n",
              "      gap: 12px;\n",
              "    }\n",
              "\n",
              "    .colab-df-convert {\n",
              "      background-color: #E8F0FE;\n",
              "      border: none;\n",
              "      border-radius: 50%;\n",
              "      cursor: pointer;\n",
              "      display: none;\n",
              "      fill: #1967D2;\n",
              "      height: 32px;\n",
              "      padding: 0 0 0 0;\n",
              "      width: 32px;\n",
              "    }\n",
              "\n",
              "    .colab-df-convert:hover {\n",
              "      background-color: #E2EBFA;\n",
              "      box-shadow: 0px 1px 2px rgba(60, 64, 67, 0.3), 0px 1px 3px 1px rgba(60, 64, 67, 0.15);\n",
              "      fill: #174EA6;\n",
              "    }\n",
              "\n",
              "    .colab-df-buttons div {\n",
              "      margin-bottom: 4px;\n",
              "    }\n",
              "\n",
              "    [theme=dark] .colab-df-convert {\n",
              "      background-color: #3B4455;\n",
              "      fill: #D2E3FC;\n",
              "    }\n",
              "\n",
              "    [theme=dark] .colab-df-convert:hover {\n",
              "      background-color: #434B5C;\n",
              "      box-shadow: 0px 1px 3px 1px rgba(0, 0, 0, 0.15);\n",
              "      filter: drop-shadow(0px 1px 2px rgba(0, 0, 0, 0.3));\n",
              "      fill: #FFFFFF;\n",
              "    }\n",
              "  </style>\n",
              "\n",
              "    <script>\n",
              "      const buttonEl =\n",
              "        document.querySelector('#df-a722deb3-7cc1-4497-89a9-dfae53bd069d button.colab-df-convert');\n",
              "      buttonEl.style.display =\n",
              "        google.colab.kernel.accessAllowed ? 'block' : 'none';\n",
              "\n",
              "      async function convertToInteractive(key) {\n",
              "        const element = document.querySelector('#df-a722deb3-7cc1-4497-89a9-dfae53bd069d');\n",
              "        const dataTable =\n",
              "          await google.colab.kernel.invokeFunction('convertToInteractive',\n",
              "                                                    [key], {});\n",
              "        if (!dataTable) return;\n",
              "\n",
              "        const docLinkHtml = 'Like what you see? Visit the ' +\n",
              "          '<a target=\"_blank\" href=https://colab.research.google.com/notebooks/data_table.ipynb>data table notebook</a>'\n",
              "          + ' to learn more about interactive tables.';\n",
              "        element.innerHTML = '';\n",
              "        dataTable['output_type'] = 'display_data';\n",
              "        await google.colab.output.renderOutput(dataTable, element);\n",
              "        const docLink = document.createElement('div');\n",
              "        docLink.innerHTML = docLinkHtml;\n",
              "        element.appendChild(docLink);\n",
              "      }\n",
              "    </script>\n",
              "  </div>\n",
              "\n",
              "\n",
              "<div id=\"df-ae8e4426-d446-43e4-a021-a9c452f166b7\">\n",
              "  <button class=\"colab-df-quickchart\" onclick=\"quickchart('df-ae8e4426-d446-43e4-a021-a9c452f166b7')\"\n",
              "            title=\"Suggest charts\"\n",
              "            style=\"display:none;\">\n",
              "\n",
              "<svg xmlns=\"http://www.w3.org/2000/svg\" height=\"24px\"viewBox=\"0 0 24 24\"\n",
              "     width=\"24px\">\n",
              "    <g>\n",
              "        <path d=\"M19 3H5c-1.1 0-2 .9-2 2v14c0 1.1.9 2 2 2h14c1.1 0 2-.9 2-2V5c0-1.1-.9-2-2-2zM9 17H7v-7h2v7zm4 0h-2V7h2v10zm4 0h-2v-4h2v4z\"/>\n",
              "    </g>\n",
              "</svg>\n",
              "  </button>\n",
              "\n",
              "<style>\n",
              "  .colab-df-quickchart {\n",
              "      --bg-color: #E8F0FE;\n",
              "      --fill-color: #1967D2;\n",
              "      --hover-bg-color: #E2EBFA;\n",
              "      --hover-fill-color: #174EA6;\n",
              "      --disabled-fill-color: #AAA;\n",
              "      --disabled-bg-color: #DDD;\n",
              "  }\n",
              "\n",
              "  [theme=dark] .colab-df-quickchart {\n",
              "      --bg-color: #3B4455;\n",
              "      --fill-color: #D2E3FC;\n",
              "      --hover-bg-color: #434B5C;\n",
              "      --hover-fill-color: #FFFFFF;\n",
              "      --disabled-bg-color: #3B4455;\n",
              "      --disabled-fill-color: #666;\n",
              "  }\n",
              "\n",
              "  .colab-df-quickchart {\n",
              "    background-color: var(--bg-color);\n",
              "    border: none;\n",
              "    border-radius: 50%;\n",
              "    cursor: pointer;\n",
              "    display: none;\n",
              "    fill: var(--fill-color);\n",
              "    height: 32px;\n",
              "    padding: 0;\n",
              "    width: 32px;\n",
              "  }\n",
              "\n",
              "  .colab-df-quickchart:hover {\n",
              "    background-color: var(--hover-bg-color);\n",
              "    box-shadow: 0 1px 2px rgba(60, 64, 67, 0.3), 0 1px 3px 1px rgba(60, 64, 67, 0.15);\n",
              "    fill: var(--button-hover-fill-color);\n",
              "  }\n",
              "\n",
              "  .colab-df-quickchart-complete:disabled,\n",
              "  .colab-df-quickchart-complete:disabled:hover {\n",
              "    background-color: var(--disabled-bg-color);\n",
              "    fill: var(--disabled-fill-color);\n",
              "    box-shadow: none;\n",
              "  }\n",
              "\n",
              "  .colab-df-spinner {\n",
              "    border: 2px solid var(--fill-color);\n",
              "    border-color: transparent;\n",
              "    border-bottom-color: var(--fill-color);\n",
              "    animation:\n",
              "      spin 1s steps(1) infinite;\n",
              "  }\n",
              "\n",
              "  @keyframes spin {\n",
              "    0% {\n",
              "      border-color: transparent;\n",
              "      border-bottom-color: var(--fill-color);\n",
              "      border-left-color: var(--fill-color);\n",
              "    }\n",
              "    20% {\n",
              "      border-color: transparent;\n",
              "      border-left-color: var(--fill-color);\n",
              "      border-top-color: var(--fill-color);\n",
              "    }\n",
              "    30% {\n",
              "      border-color: transparent;\n",
              "      border-left-color: var(--fill-color);\n",
              "      border-top-color: var(--fill-color);\n",
              "      border-right-color: var(--fill-color);\n",
              "    }\n",
              "    40% {\n",
              "      border-color: transparent;\n",
              "      border-right-color: var(--fill-color);\n",
              "      border-top-color: var(--fill-color);\n",
              "    }\n",
              "    60% {\n",
              "      border-color: transparent;\n",
              "      border-right-color: var(--fill-color);\n",
              "    }\n",
              "    80% {\n",
              "      border-color: transparent;\n",
              "      border-right-color: var(--fill-color);\n",
              "      border-bottom-color: var(--fill-color);\n",
              "    }\n",
              "    90% {\n",
              "      border-color: transparent;\n",
              "      border-bottom-color: var(--fill-color);\n",
              "    }\n",
              "  }\n",
              "</style>\n",
              "\n",
              "  <script>\n",
              "    async function quickchart(key) {\n",
              "      const quickchartButtonEl =\n",
              "        document.querySelector('#' + key + ' button');\n",
              "      quickchartButtonEl.disabled = true;  // To prevent multiple clicks.\n",
              "      quickchartButtonEl.classList.add('colab-df-spinner');\n",
              "      try {\n",
              "        const charts = await google.colab.kernel.invokeFunction(\n",
              "            'suggestCharts', [key], {});\n",
              "      } catch (error) {\n",
              "        console.error('Error during call to suggestCharts:', error);\n",
              "      }\n",
              "      quickchartButtonEl.classList.remove('colab-df-spinner');\n",
              "      quickchartButtonEl.classList.add('colab-df-quickchart-complete');\n",
              "    }\n",
              "    (() => {\n",
              "      let quickchartButtonEl =\n",
              "        document.querySelector('#df-ae8e4426-d446-43e4-a021-a9c452f166b7 button');\n",
              "      quickchartButtonEl.style.display =\n",
              "        google.colab.kernel.accessAllowed ? 'block' : 'none';\n",
              "    })();\n",
              "  </script>\n",
              "</div>\n",
              "\n",
              "  <div id=\"id_b5c5cd00-4eb5-41ca-a185-9bfdb23562d2\">\n",
              "    <style>\n",
              "      .colab-df-generate {\n",
              "        background-color: #E8F0FE;\n",
              "        border: none;\n",
              "        border-radius: 50%;\n",
              "        cursor: pointer;\n",
              "        display: none;\n",
              "        fill: #1967D2;\n",
              "        height: 32px;\n",
              "        padding: 0 0 0 0;\n",
              "        width: 32px;\n",
              "      }\n",
              "\n",
              "      .colab-df-generate:hover {\n",
              "        background-color: #E2EBFA;\n",
              "        box-shadow: 0px 1px 2px rgba(60, 64, 67, 0.3), 0px 1px 3px 1px rgba(60, 64, 67, 0.15);\n",
              "        fill: #174EA6;\n",
              "      }\n",
              "\n",
              "      [theme=dark] .colab-df-generate {\n",
              "        background-color: #3B4455;\n",
              "        fill: #D2E3FC;\n",
              "      }\n",
              "\n",
              "      [theme=dark] .colab-df-generate:hover {\n",
              "        background-color: #434B5C;\n",
              "        box-shadow: 0px 1px 3px 1px rgba(0, 0, 0, 0.15);\n",
              "        filter: drop-shadow(0px 1px 2px rgba(0, 0, 0, 0.3));\n",
              "        fill: #FFFFFF;\n",
              "      }\n",
              "    </style>\n",
              "    <button class=\"colab-df-generate\" onclick=\"generateWithVariable('metrics_df')\"\n",
              "            title=\"Generate code using this dataframe.\"\n",
              "            style=\"display:none;\">\n",
              "\n",
              "  <svg xmlns=\"http://www.w3.org/2000/svg\" height=\"24px\"viewBox=\"0 0 24 24\"\n",
              "       width=\"24px\">\n",
              "    <path d=\"M7,19H8.4L18.45,9,17,7.55,7,17.6ZM5,21V16.75L18.45,3.32a2,2,0,0,1,2.83,0l1.4,1.43a1.91,1.91,0,0,1,.58,1.4,1.91,1.91,0,0,1-.58,1.4L9.25,21ZM18.45,9,17,7.55Zm-12,3A5.31,5.31,0,0,0,4.9,8.1,5.31,5.31,0,0,0,1,6.5,5.31,5.31,0,0,0,4.9,4.9,5.31,5.31,0,0,0,6.5,1,5.31,5.31,0,0,0,8.1,4.9,5.31,5.31,0,0,0,12,6.5,5.46,5.46,0,0,0,6.5,12Z\"/>\n",
              "  </svg>\n",
              "    </button>\n",
              "    <script>\n",
              "      (() => {\n",
              "      const buttonEl =\n",
              "        document.querySelector('#id_b5c5cd00-4eb5-41ca-a185-9bfdb23562d2 button.colab-df-generate');\n",
              "      buttonEl.style.display =\n",
              "        google.colab.kernel.accessAllowed ? 'block' : 'none';\n",
              "\n",
              "      buttonEl.onclick = () => {\n",
              "        google.colab.notebook.generateWithVariable('metrics_df');\n",
              "      }\n",
              "      })();\n",
              "    </script>\n",
              "  </div>\n",
              "\n",
              "    </div>\n",
              "  </div>\n"
            ],
            "text/plain": [
              "      Metric     Score\n",
              "0   Accuracy  0.500000\n",
              "1  Precision  0.500000\n",
              "2     Recall  0.520000\n",
              "3   F1 Score  0.509804"
            ]
          },
          "execution_count": 23,
          "metadata": {},
          "output_type": "execute_result"
        }
      ],
      "source": [
        "metrics_df = pd.DataFrame(metrics)\n",
        "metrics_df"
      ]
    },
    {
      "cell_type": "code",
      "execution_count": null,
      "metadata": {
        "id": "Jd_Dfsc0UuON"
      },
      "outputs": [],
      "source": []
    }
  ],
  "metadata": {
    "accelerator": "TPU",
    "colab": {
      "gpuType": "V28",
      "provenance": []
    },
    "kernelspec": {
      "display_name": "Python 3",
      "name": "python3"
    },
    "language_info": {
      "name": "python"
    }
  },
  "nbformat": 4,
  "nbformat_minor": 0
}